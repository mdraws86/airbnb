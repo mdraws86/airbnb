{
 "cells": [
  {
   "cell_type": "markdown",
   "id": "5ab2369e",
   "metadata": {},
   "source": [
    "# Import relevant modules"
   ]
  },
  {
   "cell_type": "code",
   "execution_count": 76,
   "id": "8b5a18a9",
   "metadata": {},
   "outputs": [],
   "source": [
    "# Dat Frame library\n",
    "import pandas as pd\n",
    "# Visualization\n",
    "import matplotlib.pyplot as plt\n",
    "\n",
    "# NLP\n",
    "import spacy\n",
    "from spacy.matcher import Matcher\n",
    "\n",
    "# Statistical test\n",
    "from scipy.stats import ranksums"
   ]
  },
  {
   "cell_type": "code",
   "execution_count": 77,
   "id": "9b9c52a9",
   "metadata": {},
   "outputs": [
    {
     "data": {
      "text/plain": [
       "<pandas._config.config.option_context at 0x2fab98e90>"
      ]
     },
     "execution_count": 77,
     "metadata": {},
     "output_type": "execute_result"
    }
   ],
   "source": [
    "# Option to display more columns of a data frame\n",
    "pd.set_option(\"display.max_columns\", 40)\n",
    "# Option to convert inf values to NaN\n",
    "pd.option_context('mode.use_inf_as_na', True)"
   ]
  },
  {
   "cell_type": "markdown",
   "id": "31b49002",
   "metadata": {},
   "source": [
    "# Load airbnb data for Boston and have a look"
   ]
  },
  {
   "cell_type": "code",
   "execution_count": 85,
   "id": "4d94c271",
   "metadata": {},
   "outputs": [],
   "source": [
    "# Paths to the files\n",
    "path1 = r\"./Airbnb Boston Data/calendar.csv\"\n",
    "path2 = r\"./Airbnb Boston Data/listings.csv\"\n",
    "path3 = r\"./Airbnb Boston Data/reviews.csv\"\n",
    "\n",
    "path4 = r\"./Airbnb Seattle Data/calendar.csv\"\n",
    "path5 = r\"./Airbnb Seattle Data/listings.csv\"\n",
    "path6 = r\"./Airbnb Seattle Data/reviews.csv\"\n",
    "\n",
    "# Load each file and add city as a column where necessary\n",
    "df_calendar_boston = pd.read_csv(path1, sep = \",\", dtype_backend = 'pyarrow', dtype = {'listing_id': 'string[pyarrow]'\n",
    "                                                                                      ,'date': 'date32[day][pyarrow]'\n",
    "                                                                                      ,'available': 'string[pyarrow]'\n",
    "                                                                                      ,'price': 'string[pyarrow]'})\n",
    "df_calendar_boston['city'] = pd.Series(['Boston']*len(df_calendar_boston), dtype = 'string[pyarrow]')\n",
    "df_listings_boston = pd.read_csv(path2, sep = \",\", dtype_backend = 'pyarrow')\n",
    "df_reviews_boston = pd.read_csv(path3, sep = \",\", dtype_backend = 'pyarrow', dtype = {'listing_id': 'string[pyarrow]'\n",
    "                                                                                     ,'id': 'string[pyarrow]'\n",
    "                                                                                     ,'date': 'date32[day][pyarrow]'\n",
    "                                                                                     ,'reviewer_id': 'string[pyarrow]'\n",
    "                                                                                     ,'reviewer_name': 'string[pyarrow]'\n",
    "                                                                                     ,'comments': 'string[pyarrow]'})\n",
    "df_reviews_boston['city'] = pd.Series(['Boston']*len(df_calendar_boston), dtype = 'string[pyarrow]')\n",
    "\n",
    "df_calendar_seattle = pd.read_csv(path4, sep = \",\", dtype_backend = 'pyarrow', dtype = {'listing_id': 'string[pyarrow]'\n",
    "                                                                                      ,'date': 'date32[day][pyarrow]'\n",
    "                                                                                      ,'available': 'string[pyarrow]'\n",
    "                                                                                      ,'price': 'string[pyarrow]'})\n",
    "df_calendar_seattle['city'] = pd.Series(['Seattle']*len(df_calendar_seattle), dtype = 'string[pyarrow]')\n",
    "df_listings_seattle = pd.read_csv(path5, sep = \",\", dtype_backend = 'pyarrow')\n",
    "df_reviews_seattle = pd.read_csv(path6, sep = \",\", dtype_backend = 'pyarrow', dtype = {'listing_id': 'string[pyarrow]'\n",
    "                                                                                     ,'id': 'string[pyarrow]'\n",
    "                                                                                     ,'date': 'date32[day][pyarrow]'\n",
    "                                                                                     ,'reviewer_id': 'string[pyarrow]'\n",
    "                                                                                     ,'reviewer_name': 'string[pyarrow]'\n",
    "                                                                                     ,'comments': 'string[pyarrow]'})\n",
    "df_reviews_seattle['city'] = pd.Series(['Seattle']*len(df_calendar_boston), dtype = 'string[pyarrow]')\n",
    "\n",
    "# Concatenate the data frames for the two cities for each dataset\n",
    "df_calendar = pd.concat([df_calendar_boston, df_calendar_seattle])\n",
    "df_listings = pd.concat([df_listings_boston, df_listings_seattle])\n",
    "df_reviews = pd.concat([df_reviews_boston, df_reviews_seattle])"
   ]
  },
  {
   "cell_type": "code",
   "execution_count": 79,
   "id": "cc466e4b",
   "metadata": {},
   "outputs": [
    {
     "data": {
      "text/plain": [
       "Index(['listing_id', 'date', 'available', 'price', 'city'], dtype='object')"
      ]
     },
     "execution_count": 79,
     "metadata": {},
     "output_type": "execute_result"
    }
   ],
   "source": [
    "df_calendar_boston.columns"
   ]
  },
  {
   "cell_type": "markdown",
   "id": "efd7c0c7",
   "metadata": {},
   "source": [
    "# Data cleaning"
   ]
  },
  {
   "cell_type": "markdown",
   "id": "54c8f224",
   "metadata": {},
   "source": [
    "## Calendar"
   ]
  },
  {
   "cell_type": "markdown",
   "id": "61e13087",
   "metadata": {},
   "source": [
    "### First we check if any data in table calendar needs to be cleansed"
   ]
  },
  {
   "cell_type": "code",
   "execution_count": 86,
   "id": "97e01261",
   "metadata": {},
   "outputs": [
    {
     "data": {
      "text/html": [
       "<div>\n",
       "<style scoped>\n",
       "    .dataframe tbody tr th:only-of-type {\n",
       "        vertical-align: middle;\n",
       "    }\n",
       "\n",
       "    .dataframe tbody tr th {\n",
       "        vertical-align: top;\n",
       "    }\n",
       "\n",
       "    .dataframe thead th {\n",
       "        text-align: right;\n",
       "    }\n",
       "</style>\n",
       "<table border=\"1\" class=\"dataframe\">\n",
       "  <thead>\n",
       "    <tr style=\"text-align: right;\">\n",
       "      <th></th>\n",
       "      <th>listing_id</th>\n",
       "      <th>date</th>\n",
       "      <th>available</th>\n",
       "      <th>price</th>\n",
       "      <th>city</th>\n",
       "    </tr>\n",
       "  </thead>\n",
       "  <tbody>\n",
       "    <tr>\n",
       "      <th>0</th>\n",
       "      <td>12147973</td>\n",
       "      <td>2017-09-05</td>\n",
       "      <td>f</td>\n",
       "      <td>&lt;NA&gt;</td>\n",
       "      <td>Boston</td>\n",
       "    </tr>\n",
       "    <tr>\n",
       "      <th>1</th>\n",
       "      <td>12147973</td>\n",
       "      <td>2017-09-04</td>\n",
       "      <td>f</td>\n",
       "      <td>&lt;NA&gt;</td>\n",
       "      <td>Boston</td>\n",
       "    </tr>\n",
       "    <tr>\n",
       "      <th>2</th>\n",
       "      <td>12147973</td>\n",
       "      <td>2017-09-03</td>\n",
       "      <td>f</td>\n",
       "      <td>&lt;NA&gt;</td>\n",
       "      <td>Boston</td>\n",
       "    </tr>\n",
       "    <tr>\n",
       "      <th>3</th>\n",
       "      <td>12147973</td>\n",
       "      <td>2017-09-02</td>\n",
       "      <td>f</td>\n",
       "      <td>&lt;NA&gt;</td>\n",
       "      <td>Boston</td>\n",
       "    </tr>\n",
       "    <tr>\n",
       "      <th>4</th>\n",
       "      <td>12147973</td>\n",
       "      <td>2017-09-01</td>\n",
       "      <td>f</td>\n",
       "      <td>&lt;NA&gt;</td>\n",
       "      <td>Boston</td>\n",
       "    </tr>\n",
       "    <tr>\n",
       "      <th>5</th>\n",
       "      <td>12147973</td>\n",
       "      <td>2017-08-31</td>\n",
       "      <td>f</td>\n",
       "      <td>&lt;NA&gt;</td>\n",
       "      <td>Boston</td>\n",
       "    </tr>\n",
       "    <tr>\n",
       "      <th>6</th>\n",
       "      <td>12147973</td>\n",
       "      <td>2017-08-30</td>\n",
       "      <td>f</td>\n",
       "      <td>&lt;NA&gt;</td>\n",
       "      <td>Boston</td>\n",
       "    </tr>\n",
       "    <tr>\n",
       "      <th>7</th>\n",
       "      <td>12147973</td>\n",
       "      <td>2017-08-29</td>\n",
       "      <td>f</td>\n",
       "      <td>&lt;NA&gt;</td>\n",
       "      <td>Boston</td>\n",
       "    </tr>\n",
       "    <tr>\n",
       "      <th>8</th>\n",
       "      <td>12147973</td>\n",
       "      <td>2017-08-28</td>\n",
       "      <td>f</td>\n",
       "      <td>&lt;NA&gt;</td>\n",
       "      <td>Boston</td>\n",
       "    </tr>\n",
       "    <tr>\n",
       "      <th>9</th>\n",
       "      <td>12147973</td>\n",
       "      <td>2017-08-27</td>\n",
       "      <td>f</td>\n",
       "      <td>&lt;NA&gt;</td>\n",
       "      <td>Boston</td>\n",
       "    </tr>\n",
       "  </tbody>\n",
       "</table>\n",
       "</div>"
      ],
      "text/plain": [
       "  listing_id        date available price    city\n",
       "0   12147973  2017-09-05         f  <NA>  Boston\n",
       "1   12147973  2017-09-04         f  <NA>  Boston\n",
       "2   12147973  2017-09-03         f  <NA>  Boston\n",
       "3   12147973  2017-09-02         f  <NA>  Boston\n",
       "4   12147973  2017-09-01         f  <NA>  Boston\n",
       "5   12147973  2017-08-31         f  <NA>  Boston\n",
       "6   12147973  2017-08-30         f  <NA>  Boston\n",
       "7   12147973  2017-08-29         f  <NA>  Boston\n",
       "8   12147973  2017-08-28         f  <NA>  Boston\n",
       "9   12147973  2017-08-27         f  <NA>  Boston"
      ]
     },
     "execution_count": 86,
     "metadata": {},
     "output_type": "execute_result"
    }
   ],
   "source": [
    "# Look at first rows of calendar\n",
    "df_calendar.head(10)"
   ]
  },
  {
   "cell_type": "code",
   "execution_count": 87,
   "id": "8fc475bd",
   "metadata": {},
   "outputs": [
    {
     "data": {
      "text/plain": [
       "listing_id         string[pyarrow]\n",
       "date          date32[day][pyarrow]\n",
       "available          string[pyarrow]\n",
       "price              string[pyarrow]\n",
       "city               string[pyarrow]\n",
       "dtype: object"
      ]
     },
     "execution_count": 87,
     "metadata": {},
     "output_type": "execute_result"
    }
   ],
   "source": [
    "# dtypes of calendar\n",
    "df_calendar.dtypes"
   ]
  },
  {
   "cell_type": "markdown",
   "id": "859f84a7",
   "metadata": {},
   "source": [
    "### At first sight it looks that at least 'price' should not be a string column. Additionally looking at the first values of 'available' we could assume that it is a boolian value.\n",
    "### So we take a look at the distinct values of 'available'."
   ]
  },
  {
   "cell_type": "code",
   "execution_count": 88,
   "id": "d591dcb7",
   "metadata": {},
   "outputs": [
    {
     "data": {
      "text/plain": [
       "<ArrowStringArray>\n",
       "['f', 't']\n",
       "Length: 2, dtype: string"
      ]
     },
     "execution_count": 88,
     "metadata": {},
     "output_type": "execute_result"
    }
   ],
   "source": [
    "# Look at values for 'available'\n",
    "df_calendar.available.unique()"
   ]
  },
  {
   "cell_type": "markdown",
   "id": "acbe1a81",
   "metadata": {},
   "source": [
    "### Seems it is correct to assume a boolian data type for 'available'."
   ]
  },
  {
   "cell_type": "code",
   "execution_count": 89,
   "id": "dd0b026e",
   "metadata": {},
   "outputs": [
    {
     "data": {
      "text/plain": [
       "365    $65.00\n",
       "366    $65.00\n",
       "367    $65.00\n",
       "368    $75.00\n",
       "369    $75.00\n",
       "Name: price, dtype: string"
      ]
     },
     "execution_count": 89,
     "metadata": {},
     "output_type": "execute_result"
    }
   ],
   "source": [
    "# Look at not null values for 'price'\n",
    "df_calendar.dropna().price.head()"
   ]
  },
  {
   "cell_type": "markdown",
   "id": "ff1d12ef",
   "metadata": {},
   "source": [
    "### The values for available consist only of 'f' and 't' without missing values. Thus 'available' can be converted to boolian.\n",
    "### The not null values of 'price' start with '\\$' making the entries as string. So I strip the '\\$' and convert to float."
   ]
  },
  {
   "cell_type": "code",
   "execution_count": 90,
   "id": "d57e43df",
   "metadata": {},
   "outputs": [],
   "source": [
    "# convert 'date' to date format, 'available' to boolian and 'price' to float\n",
    "df_calendar['available'] = df_calendar['available'].apply(lambda x: 0 if x.strip() == 'f' else 1).astype('bool[pyarrow]')\n",
    "df_calendar['price'] = df_calendar['price'].str.replace(r\"[\\$,]\", \"\", regex = True).astype('float32[pyarrow]')"
   ]
  },
  {
   "cell_type": "markdown",
   "id": "df2caf9e",
   "metadata": {},
   "source": [
    "### The last step is to compute the relative amount of missing values for each column. It is interesting over 40% of prices are missing. It might be useful to keep this in mind for the ongoing analysis."
   ]
  },
  {
   "cell_type": "code",
   "execution_count": 91,
   "id": "6fe7c065",
   "metadata": {},
   "outputs": [
    {
     "data": {
      "text/plain": [
       "price         0.416243\n",
       "listing_id    0.000000\n",
       "date          0.000000\n",
       "available     0.000000\n",
       "city          0.000000\n",
       "dtype: float64"
      ]
     },
     "execution_count": 91,
     "metadata": {},
     "output_type": "execute_result"
    }
   ],
   "source": [
    "# Percentage of missing values for each column in calendar\n",
    "df_calendar.isna().mean().sort_values(ascending = False)"
   ]
  },
  {
   "cell_type": "markdown",
   "id": "1e1d4bfd",
   "metadata": {},
   "source": [
    "## Listings"
   ]
  },
  {
   "cell_type": "markdown",
   "id": "9da19172",
   "metadata": {},
   "source": [
    "### Next we check if we have to clean the listings data as well."
   ]
  },
  {
   "cell_type": "code",
   "execution_count": 10,
   "id": "a05042fa",
   "metadata": {},
   "outputs": [
    {
     "data": {
      "text/html": [
       "<div>\n",
       "<style scoped>\n",
       "    .dataframe tbody tr th:only-of-type {\n",
       "        vertical-align: middle;\n",
       "    }\n",
       "\n",
       "    .dataframe tbody tr th {\n",
       "        vertical-align: top;\n",
       "    }\n",
       "\n",
       "    .dataframe thead th {\n",
       "        text-align: right;\n",
       "    }\n",
       "</style>\n",
       "<table border=\"1\" class=\"dataframe\">\n",
       "  <thead>\n",
       "    <tr style=\"text-align: right;\">\n",
       "      <th></th>\n",
       "      <th>id</th>\n",
       "      <th>listing_url</th>\n",
       "      <th>scrape_id</th>\n",
       "      <th>last_scraped</th>\n",
       "      <th>name</th>\n",
       "      <th>summary</th>\n",
       "      <th>space</th>\n",
       "      <th>description</th>\n",
       "      <th>experiences_offered</th>\n",
       "      <th>neighborhood_overview</th>\n",
       "      <th>notes</th>\n",
       "      <th>transit</th>\n",
       "      <th>access</th>\n",
       "      <th>interaction</th>\n",
       "      <th>house_rules</th>\n",
       "      <th>thumbnail_url</th>\n",
       "      <th>medium_url</th>\n",
       "      <th>picture_url</th>\n",
       "      <th>xl_picture_url</th>\n",
       "      <th>host_id</th>\n",
       "      <th>...</th>\n",
       "      <th>calendar_last_scraped</th>\n",
       "      <th>number_of_reviews</th>\n",
       "      <th>first_review</th>\n",
       "      <th>last_review</th>\n",
       "      <th>review_scores_rating</th>\n",
       "      <th>review_scores_accuracy</th>\n",
       "      <th>review_scores_cleanliness</th>\n",
       "      <th>review_scores_checkin</th>\n",
       "      <th>review_scores_communication</th>\n",
       "      <th>review_scores_location</th>\n",
       "      <th>review_scores_value</th>\n",
       "      <th>requires_license</th>\n",
       "      <th>license</th>\n",
       "      <th>jurisdiction_names</th>\n",
       "      <th>instant_bookable</th>\n",
       "      <th>cancellation_policy</th>\n",
       "      <th>require_guest_profile_picture</th>\n",
       "      <th>require_guest_phone_verification</th>\n",
       "      <th>calculated_host_listings_count</th>\n",
       "      <th>reviews_per_month</th>\n",
       "    </tr>\n",
       "  </thead>\n",
       "  <tbody>\n",
       "    <tr>\n",
       "      <th>0</th>\n",
       "      <td>12147973</td>\n",
       "      <td>https://www.airbnb.com/rooms/12147973</td>\n",
       "      <td>20160906204935</td>\n",
       "      <td>2016-09-07</td>\n",
       "      <td>Sunny Bungalow in the City</td>\n",
       "      <td>Cozy, sunny, family home.  Master bedroom high...</td>\n",
       "      <td>The house has an open and cozy feel at the sam...</td>\n",
       "      <td>Cozy, sunny, family home.  Master bedroom high...</td>\n",
       "      <td>none</td>\n",
       "      <td>Roslindale is quiet, convenient and friendly. ...</td>\n",
       "      <td>&lt;NA&gt;</td>\n",
       "      <td>The bus stop is 2 blocks away, and frequent. B...</td>\n",
       "      <td>You will have access to 2 bedrooms, a living r...</td>\n",
       "      <td>&lt;NA&gt;</td>\n",
       "      <td>Clean up and treat the home the way you'd like...</td>\n",
       "      <td>https://a2.muscache.com/im/pictures/c0842db1-e...</td>\n",
       "      <td>https://a2.muscache.com/im/pictures/c0842db1-e...</td>\n",
       "      <td>https://a2.muscache.com/im/pictures/c0842db1-e...</td>\n",
       "      <td>https://a2.muscache.com/im/pictures/c0842db1-e...</td>\n",
       "      <td>31303940</td>\n",
       "      <td>...</td>\n",
       "      <td>2016-09-06</td>\n",
       "      <td>0</td>\n",
       "      <td>&lt;NA&gt;</td>\n",
       "      <td>&lt;NA&gt;</td>\n",
       "      <td>&lt;NA&gt;</td>\n",
       "      <td>&lt;NA&gt;</td>\n",
       "      <td>&lt;NA&gt;</td>\n",
       "      <td>&lt;NA&gt;</td>\n",
       "      <td>&lt;NA&gt;</td>\n",
       "      <td>&lt;NA&gt;</td>\n",
       "      <td>&lt;NA&gt;</td>\n",
       "      <td>f</td>\n",
       "      <td>&lt;NA&gt;</td>\n",
       "      <td>&lt;NA&gt;</td>\n",
       "      <td>f</td>\n",
       "      <td>moderate</td>\n",
       "      <td>f</td>\n",
       "      <td>f</td>\n",
       "      <td>1</td>\n",
       "      <td>&lt;NA&gt;</td>\n",
       "    </tr>\n",
       "    <tr>\n",
       "      <th>1</th>\n",
       "      <td>3075044</td>\n",
       "      <td>https://www.airbnb.com/rooms/3075044</td>\n",
       "      <td>20160906204935</td>\n",
       "      <td>2016-09-07</td>\n",
       "      <td>Charming room in pet friendly apt</td>\n",
       "      <td>Charming and quiet room in a second floor 1910...</td>\n",
       "      <td>Small but cozy and quite room with a full size...</td>\n",
       "      <td>Charming and quiet room in a second floor 1910...</td>\n",
       "      <td>none</td>\n",
       "      <td>The room is in Roslindale, a diverse and prima...</td>\n",
       "      <td>If you don't have a US cell phone, you can tex...</td>\n",
       "      <td>Plenty of safe street parking. Bus stops a few...</td>\n",
       "      <td>Apt has one more bedroom (which I use) and lar...</td>\n",
       "      <td>If I am at home, I am likely working in my hom...</td>\n",
       "      <td>Pet friendly but please confirm with me if the...</td>\n",
       "      <td>https://a1.muscache.com/im/pictures/39327812/d...</td>\n",
       "      <td>https://a1.muscache.com/im/pictures/39327812/d...</td>\n",
       "      <td>https://a1.muscache.com/im/pictures/39327812/d...</td>\n",
       "      <td>https://a1.muscache.com/im/pictures/39327812/d...</td>\n",
       "      <td>2572247</td>\n",
       "      <td>...</td>\n",
       "      <td>2016-09-06</td>\n",
       "      <td>36</td>\n",
       "      <td>2014-06-01</td>\n",
       "      <td>2016-08-13</td>\n",
       "      <td>94</td>\n",
       "      <td>10</td>\n",
       "      <td>9</td>\n",
       "      <td>10</td>\n",
       "      <td>10</td>\n",
       "      <td>9</td>\n",
       "      <td>9</td>\n",
       "      <td>f</td>\n",
       "      <td>&lt;NA&gt;</td>\n",
       "      <td>&lt;NA&gt;</td>\n",
       "      <td>t</td>\n",
       "      <td>moderate</td>\n",
       "      <td>f</td>\n",
       "      <td>f</td>\n",
       "      <td>1</td>\n",
       "      <td>1.3</td>\n",
       "    </tr>\n",
       "    <tr>\n",
       "      <th>2</th>\n",
       "      <td>6976</td>\n",
       "      <td>https://www.airbnb.com/rooms/6976</td>\n",
       "      <td>20160906204935</td>\n",
       "      <td>2016-09-07</td>\n",
       "      <td>Mexican Folk Art Haven in Boston</td>\n",
       "      <td>Come stay with a friendly, middle-aged guy in ...</td>\n",
       "      <td>Come stay with a friendly, middle-aged guy in ...</td>\n",
       "      <td>Come stay with a friendly, middle-aged guy in ...</td>\n",
       "      <td>none</td>\n",
       "      <td>The LOCATION: Roslindale is a safe and diverse...</td>\n",
       "      <td>I am in a scenic part of Boston with a couple ...</td>\n",
       "      <td>PUBLIC TRANSPORTATION: From the house, quick p...</td>\n",
       "      <td>I am living in the apartment during your stay,...</td>\n",
       "      <td>ABOUT ME: I'm a laid-back, friendly, unmarried...</td>\n",
       "      <td>I encourage you to use my kitchen, cooking and...</td>\n",
       "      <td>https://a2.muscache.com/im/pictures/6ae8335d-9...</td>\n",
       "      <td>https://a2.muscache.com/im/pictures/6ae8335d-9...</td>\n",
       "      <td>https://a2.muscache.com/im/pictures/6ae8335d-9...</td>\n",
       "      <td>https://a2.muscache.com/im/pictures/6ae8335d-9...</td>\n",
       "      <td>16701</td>\n",
       "      <td>...</td>\n",
       "      <td>2016-09-06</td>\n",
       "      <td>41</td>\n",
       "      <td>2009-07-19</td>\n",
       "      <td>2016-08-05</td>\n",
       "      <td>98</td>\n",
       "      <td>10</td>\n",
       "      <td>9</td>\n",
       "      <td>10</td>\n",
       "      <td>10</td>\n",
       "      <td>9</td>\n",
       "      <td>10</td>\n",
       "      <td>f</td>\n",
       "      <td>&lt;NA&gt;</td>\n",
       "      <td>&lt;NA&gt;</td>\n",
       "      <td>f</td>\n",
       "      <td>moderate</td>\n",
       "      <td>t</td>\n",
       "      <td>f</td>\n",
       "      <td>1</td>\n",
       "      <td>0.47</td>\n",
       "    </tr>\n",
       "    <tr>\n",
       "      <th>3</th>\n",
       "      <td>1436513</td>\n",
       "      <td>https://www.airbnb.com/rooms/1436513</td>\n",
       "      <td>20160906204935</td>\n",
       "      <td>2016-09-07</td>\n",
       "      <td>Spacious Sunny Bedroom Suite in Historic Home</td>\n",
       "      <td>Come experience the comforts of home away from...</td>\n",
       "      <td>Most places you find in Boston are small howev...</td>\n",
       "      <td>Come experience the comforts of home away from...</td>\n",
       "      <td>none</td>\n",
       "      <td>Roslindale is a lovely little neighborhood loc...</td>\n",
       "      <td>Please be mindful of the property as it is old...</td>\n",
       "      <td>There are buses that stop right in front of th...</td>\n",
       "      <td>The basement has a washer dryer and gym area. ...</td>\n",
       "      <td>We do live in the house therefore might be som...</td>\n",
       "      <td>- The bathroom and house are shared so please ...</td>\n",
       "      <td>https://a2.muscache.com/im/pictures/39764190-1...</td>\n",
       "      <td>https://a2.muscache.com/im/pictures/39764190-1...</td>\n",
       "      <td>https://a2.muscache.com/im/pictures/39764190-1...</td>\n",
       "      <td>https://a2.muscache.com/im/pictures/39764190-1...</td>\n",
       "      <td>6031442</td>\n",
       "      <td>...</td>\n",
       "      <td>2016-09-06</td>\n",
       "      <td>1</td>\n",
       "      <td>2016-08-28</td>\n",
       "      <td>2016-08-28</td>\n",
       "      <td>100</td>\n",
       "      <td>10</td>\n",
       "      <td>10</td>\n",
       "      <td>10</td>\n",
       "      <td>10</td>\n",
       "      <td>10</td>\n",
       "      <td>10</td>\n",
       "      <td>f</td>\n",
       "      <td>&lt;NA&gt;</td>\n",
       "      <td>&lt;NA&gt;</td>\n",
       "      <td>f</td>\n",
       "      <td>moderate</td>\n",
       "      <td>f</td>\n",
       "      <td>f</td>\n",
       "      <td>1</td>\n",
       "      <td>1.0</td>\n",
       "    </tr>\n",
       "  </tbody>\n",
       "</table>\n",
       "<p>4 rows × 95 columns</p>\n",
       "</div>"
      ],
      "text/plain": [
       "         id                            listing_url       scrape_id  \\\n",
       "0  12147973  https://www.airbnb.com/rooms/12147973  20160906204935   \n",
       "1   3075044   https://www.airbnb.com/rooms/3075044  20160906204935   \n",
       "2      6976      https://www.airbnb.com/rooms/6976  20160906204935   \n",
       "3   1436513   https://www.airbnb.com/rooms/1436513  20160906204935   \n",
       "\n",
       "  last_scraped                                           name  \\\n",
       "0   2016-09-07                     Sunny Bungalow in the City   \n",
       "1   2016-09-07              Charming room in pet friendly apt   \n",
       "2   2016-09-07               Mexican Folk Art Haven in Boston   \n",
       "3   2016-09-07  Spacious Sunny Bedroom Suite in Historic Home   \n",
       "\n",
       "                                             summary  \\\n",
       "0  Cozy, sunny, family home.  Master bedroom high...   \n",
       "1  Charming and quiet room in a second floor 1910...   \n",
       "2  Come stay with a friendly, middle-aged guy in ...   \n",
       "3  Come experience the comforts of home away from...   \n",
       "\n",
       "                                               space  \\\n",
       "0  The house has an open and cozy feel at the sam...   \n",
       "1  Small but cozy and quite room with a full size...   \n",
       "2  Come stay with a friendly, middle-aged guy in ...   \n",
       "3  Most places you find in Boston are small howev...   \n",
       "\n",
       "                                         description experiences_offered  \\\n",
       "0  Cozy, sunny, family home.  Master bedroom high...                none   \n",
       "1  Charming and quiet room in a second floor 1910...                none   \n",
       "2  Come stay with a friendly, middle-aged guy in ...                none   \n",
       "3  Come experience the comforts of home away from...                none   \n",
       "\n",
       "                               neighborhood_overview  \\\n",
       "0  Roslindale is quiet, convenient and friendly. ...   \n",
       "1  The room is in Roslindale, a diverse and prima...   \n",
       "2  The LOCATION: Roslindale is a safe and diverse...   \n",
       "3  Roslindale is a lovely little neighborhood loc...   \n",
       "\n",
       "                                               notes  \\\n",
       "0                                               <NA>   \n",
       "1  If you don't have a US cell phone, you can tex...   \n",
       "2  I am in a scenic part of Boston with a couple ...   \n",
       "3  Please be mindful of the property as it is old...   \n",
       "\n",
       "                                             transit  \\\n",
       "0  The bus stop is 2 blocks away, and frequent. B...   \n",
       "1  Plenty of safe street parking. Bus stops a few...   \n",
       "2  PUBLIC TRANSPORTATION: From the house, quick p...   \n",
       "3  There are buses that stop right in front of th...   \n",
       "\n",
       "                                              access  \\\n",
       "0  You will have access to 2 bedrooms, a living r...   \n",
       "1  Apt has one more bedroom (which I use) and lar...   \n",
       "2  I am living in the apartment during your stay,...   \n",
       "3  The basement has a washer dryer and gym area. ...   \n",
       "\n",
       "                                         interaction  \\\n",
       "0                                               <NA>   \n",
       "1  If I am at home, I am likely working in my hom...   \n",
       "2  ABOUT ME: I'm a laid-back, friendly, unmarried...   \n",
       "3  We do live in the house therefore might be som...   \n",
       "\n",
       "                                         house_rules  \\\n",
       "0  Clean up and treat the home the way you'd like...   \n",
       "1  Pet friendly but please confirm with me if the...   \n",
       "2  I encourage you to use my kitchen, cooking and...   \n",
       "3  - The bathroom and house are shared so please ...   \n",
       "\n",
       "                                       thumbnail_url  \\\n",
       "0  https://a2.muscache.com/im/pictures/c0842db1-e...   \n",
       "1  https://a1.muscache.com/im/pictures/39327812/d...   \n",
       "2  https://a2.muscache.com/im/pictures/6ae8335d-9...   \n",
       "3  https://a2.muscache.com/im/pictures/39764190-1...   \n",
       "\n",
       "                                          medium_url  \\\n",
       "0  https://a2.muscache.com/im/pictures/c0842db1-e...   \n",
       "1  https://a1.muscache.com/im/pictures/39327812/d...   \n",
       "2  https://a2.muscache.com/im/pictures/6ae8335d-9...   \n",
       "3  https://a2.muscache.com/im/pictures/39764190-1...   \n",
       "\n",
       "                                         picture_url  \\\n",
       "0  https://a2.muscache.com/im/pictures/c0842db1-e...   \n",
       "1  https://a1.muscache.com/im/pictures/39327812/d...   \n",
       "2  https://a2.muscache.com/im/pictures/6ae8335d-9...   \n",
       "3  https://a2.muscache.com/im/pictures/39764190-1...   \n",
       "\n",
       "                                      xl_picture_url   host_id  ...  \\\n",
       "0  https://a2.muscache.com/im/pictures/c0842db1-e...  31303940  ...   \n",
       "1  https://a1.muscache.com/im/pictures/39327812/d...   2572247  ...   \n",
       "2  https://a2.muscache.com/im/pictures/6ae8335d-9...     16701  ...   \n",
       "3  https://a2.muscache.com/im/pictures/39764190-1...   6031442  ...   \n",
       "\n",
       "  calendar_last_scraped number_of_reviews first_review last_review  \\\n",
       "0            2016-09-06                 0         <NA>        <NA>   \n",
       "1            2016-09-06                36   2014-06-01  2016-08-13   \n",
       "2            2016-09-06                41   2009-07-19  2016-08-05   \n",
       "3            2016-09-06                 1   2016-08-28  2016-08-28   \n",
       "\n",
       "  review_scores_rating review_scores_accuracy review_scores_cleanliness  \\\n",
       "0                 <NA>                   <NA>                      <NA>   \n",
       "1                   94                     10                         9   \n",
       "2                   98                     10                         9   \n",
       "3                  100                     10                        10   \n",
       "\n",
       "  review_scores_checkin review_scores_communication review_scores_location  \\\n",
       "0                  <NA>                        <NA>                   <NA>   \n",
       "1                    10                          10                      9   \n",
       "2                    10                          10                      9   \n",
       "3                    10                          10                     10   \n",
       "\n",
       "  review_scores_value requires_license  license  jurisdiction_names  \\\n",
       "0                <NA>                f     <NA>                <NA>   \n",
       "1                   9                f     <NA>                <NA>   \n",
       "2                  10                f     <NA>                <NA>   \n",
       "3                  10                f     <NA>                <NA>   \n",
       "\n",
       "  instant_bookable cancellation_policy require_guest_profile_picture  \\\n",
       "0                f            moderate                             f   \n",
       "1                t            moderate                             f   \n",
       "2                f            moderate                             t   \n",
       "3                f            moderate                             f   \n",
       "\n",
       "  require_guest_phone_verification calculated_host_listings_count  \\\n",
       "0                                f                              1   \n",
       "1                                f                              1   \n",
       "2                                f                              1   \n",
       "3                                f                              1   \n",
       "\n",
       "  reviews_per_month  \n",
       "0              <NA>  \n",
       "1               1.3  \n",
       "2              0.47  \n",
       "3               1.0  \n",
       "\n",
       "[4 rows x 95 columns]"
      ]
     },
     "execution_count": 10,
     "metadata": {},
     "output_type": "execute_result"
    }
   ],
   "source": [
    "# Look at first rows of listings\n",
    "df_listings.head(4)"
   ]
  },
  {
   "cell_type": "code",
   "execution_count": null,
   "id": "79246be8",
   "metadata": {},
   "outputs": [
    {
     "data": {
      "text/plain": [
       "id                                   int64[pyarrow]\n",
       "listing_url                         string[pyarrow]\n",
       "scrape_id                            int64[pyarrow]\n",
       "last_scraped                        string[pyarrow]\n",
       "name                                string[pyarrow]\n",
       "                                         ...       \n",
       "cancellation_policy                 string[pyarrow]\n",
       "require_guest_profile_picture       string[pyarrow]\n",
       "require_guest_phone_verification    string[pyarrow]\n",
       "calculated_host_listings_count       int64[pyarrow]\n",
       "reviews_per_month                   double[pyarrow]\n",
       "Length: 95, dtype: object"
      ]
     },
     "metadata": {},
     "output_type": "display_data"
    }
   ],
   "source": [
    "# Print the dtypes\n",
    "df_listings.dtypes"
   ]
  },
  {
   "cell_type": "markdown",
   "id": "862f0258",
   "metadata": {},
   "source": [
    "### It is a complex table with all kinds of data types. One first approach is to look at string columns."
   ]
  },
  {
   "cell_type": "code",
   "execution_count": null,
   "id": "da89eb9c",
   "metadata": {},
   "outputs": [
    {
     "data": {
      "text/plain": [
       "Index(['listing_url', 'last_scraped', 'name', 'summary', 'space',\n",
       "       'description', 'experiences_offered', 'neighborhood_overview', 'notes',\n",
       "       'transit', 'access', 'interaction', 'house_rules', 'thumbnail_url',\n",
       "       'medium_url', 'picture_url', 'xl_picture_url', 'host_url', 'host_name',\n",
       "       'host_since', 'host_location', 'host_about', 'host_response_time',\n",
       "       'host_response_rate', 'host_acceptance_rate', 'host_is_superhost',\n",
       "       'host_thumbnail_url', 'host_picture_url', 'host_neighbourhood',\n",
       "       'host_verifications', 'host_has_profile_pic', 'host_identity_verified',\n",
       "       'street', 'neighbourhood', 'neighbourhood_cleansed',\n",
       "       'neighbourhood_group_cleansed', 'city', 'state', 'zipcode', 'market',\n",
       "       'smart_location', 'country_code', 'country', 'is_location_exact',\n",
       "       'property_type', 'room_type', 'bed_type', 'amenities', 'price',\n",
       "       'weekly_price', 'monthly_price', 'security_deposit', 'cleaning_fee',\n",
       "       'extra_people', 'calendar_updated', 'has_availability',\n",
       "       'calendar_last_scraped', 'first_review', 'last_review',\n",
       "       'requires_license', 'jurisdiction_names', 'instant_bookable',\n",
       "       'cancellation_policy', 'require_guest_profile_picture',\n",
       "       'require_guest_phone_verification'],\n",
       "      dtype='object')"
      ]
     },
     "metadata": {},
     "output_type": "display_data"
    }
   ],
   "source": [
    "# string columns in listings\n",
    "df_listings.select_dtypes(include = 'string[pyarrow]').columns"
   ]
  },
  {
   "cell_type": "markdown",
   "id": "6c660551",
   "metadata": {},
   "source": [
    "### Again a large amount of columns. We will have a look at the first rows of the string columns I suppose not to be string (by name) to check if some of them have to be converted to another data type."
   ]
  },
  {
   "cell_type": "code",
   "execution_count": 13,
   "id": "84dde120",
   "metadata": {},
   "outputs": [
    {
     "data": {
      "text/html": [
       "<div>\n",
       "<style scoped>\n",
       "    .dataframe tbody tr th:only-of-type {\n",
       "        vertical-align: middle;\n",
       "    }\n",
       "\n",
       "    .dataframe tbody tr th {\n",
       "        vertical-align: top;\n",
       "    }\n",
       "\n",
       "    .dataframe thead th {\n",
       "        text-align: right;\n",
       "    }\n",
       "</style>\n",
       "<table border=\"1\" class=\"dataframe\">\n",
       "  <thead>\n",
       "    <tr style=\"text-align: right;\">\n",
       "      <th></th>\n",
       "      <th>host_since</th>\n",
       "      <th>host_response_time</th>\n",
       "      <th>host_response_rate</th>\n",
       "      <th>host_acceptance_rate</th>\n",
       "      <th>host_is_superhost</th>\n",
       "      <th>host_has_profile_pic</th>\n",
       "      <th>host_identity_verified</th>\n",
       "      <th>is_location_exact</th>\n",
       "      <th>price</th>\n",
       "      <th>weekly_price</th>\n",
       "      <th>monthly_price</th>\n",
       "      <th>security_deposit</th>\n",
       "      <th>cleaning_fee</th>\n",
       "      <th>extra_people</th>\n",
       "      <th>calendar_updated</th>\n",
       "      <th>has_availability</th>\n",
       "      <th>calendar_last_scraped</th>\n",
       "      <th>first_review</th>\n",
       "      <th>last_review</th>\n",
       "      <th>requires_license</th>\n",
       "      <th>instant_bookable</th>\n",
       "      <th>require_guest_profile_picture</th>\n",
       "      <th>require_guest_phone_verification</th>\n",
       "    </tr>\n",
       "  </thead>\n",
       "  <tbody>\n",
       "    <tr>\n",
       "      <th>0</th>\n",
       "      <td>2015-04-15</td>\n",
       "      <td>&lt;NA&gt;</td>\n",
       "      <td>&lt;NA&gt;</td>\n",
       "      <td>&lt;NA&gt;</td>\n",
       "      <td>f</td>\n",
       "      <td>t</td>\n",
       "      <td>f</td>\n",
       "      <td>t</td>\n",
       "      <td>$250.00</td>\n",
       "      <td>&lt;NA&gt;</td>\n",
       "      <td>&lt;NA&gt;</td>\n",
       "      <td>&lt;NA&gt;</td>\n",
       "      <td>$35.00</td>\n",
       "      <td>$0.00</td>\n",
       "      <td>2 weeks ago</td>\n",
       "      <td>&lt;NA&gt;</td>\n",
       "      <td>2016-09-06</td>\n",
       "      <td>&lt;NA&gt;</td>\n",
       "      <td>&lt;NA&gt;</td>\n",
       "      <td>f</td>\n",
       "      <td>f</td>\n",
       "      <td>f</td>\n",
       "      <td>f</td>\n",
       "    </tr>\n",
       "    <tr>\n",
       "      <th>1</th>\n",
       "      <td>2012-06-07</td>\n",
       "      <td>within an hour</td>\n",
       "      <td>100%</td>\n",
       "      <td>100%</td>\n",
       "      <td>f</td>\n",
       "      <td>t</td>\n",
       "      <td>t</td>\n",
       "      <td>t</td>\n",
       "      <td>$65.00</td>\n",
       "      <td>$400.00</td>\n",
       "      <td>&lt;NA&gt;</td>\n",
       "      <td>$95.00</td>\n",
       "      <td>$10.00</td>\n",
       "      <td>$0.00</td>\n",
       "      <td>a week ago</td>\n",
       "      <td>&lt;NA&gt;</td>\n",
       "      <td>2016-09-06</td>\n",
       "      <td>2014-06-01</td>\n",
       "      <td>2016-08-13</td>\n",
       "      <td>f</td>\n",
       "      <td>t</td>\n",
       "      <td>f</td>\n",
       "      <td>f</td>\n",
       "    </tr>\n",
       "    <tr>\n",
       "      <th>2</th>\n",
       "      <td>2009-05-11</td>\n",
       "      <td>within a few hours</td>\n",
       "      <td>100%</td>\n",
       "      <td>88%</td>\n",
       "      <td>t</td>\n",
       "      <td>t</td>\n",
       "      <td>t</td>\n",
       "      <td>t</td>\n",
       "      <td>$65.00</td>\n",
       "      <td>$395.00</td>\n",
       "      <td>$1,350.00</td>\n",
       "      <td>&lt;NA&gt;</td>\n",
       "      <td>&lt;NA&gt;</td>\n",
       "      <td>$20.00</td>\n",
       "      <td>5 days ago</td>\n",
       "      <td>&lt;NA&gt;</td>\n",
       "      <td>2016-09-06</td>\n",
       "      <td>2009-07-19</td>\n",
       "      <td>2016-08-05</td>\n",
       "      <td>f</td>\n",
       "      <td>f</td>\n",
       "      <td>t</td>\n",
       "      <td>f</td>\n",
       "    </tr>\n",
       "    <tr>\n",
       "      <th>3</th>\n",
       "      <td>2013-04-21</td>\n",
       "      <td>within a few hours</td>\n",
       "      <td>100%</td>\n",
       "      <td>50%</td>\n",
       "      <td>f</td>\n",
       "      <td>t</td>\n",
       "      <td>f</td>\n",
       "      <td>f</td>\n",
       "      <td>$75.00</td>\n",
       "      <td>&lt;NA&gt;</td>\n",
       "      <td>&lt;NA&gt;</td>\n",
       "      <td>$100.00</td>\n",
       "      <td>$50.00</td>\n",
       "      <td>$25.00</td>\n",
       "      <td>a week ago</td>\n",
       "      <td>&lt;NA&gt;</td>\n",
       "      <td>2016-09-06</td>\n",
       "      <td>2016-08-28</td>\n",
       "      <td>2016-08-28</td>\n",
       "      <td>f</td>\n",
       "      <td>f</td>\n",
       "      <td>f</td>\n",
       "      <td>f</td>\n",
       "    </tr>\n",
       "    <tr>\n",
       "      <th>4</th>\n",
       "      <td>2014-05-11</td>\n",
       "      <td>within an hour</td>\n",
       "      <td>100%</td>\n",
       "      <td>100%</td>\n",
       "      <td>t</td>\n",
       "      <td>t</td>\n",
       "      <td>t</td>\n",
       "      <td>t</td>\n",
       "      <td>$79.00</td>\n",
       "      <td>&lt;NA&gt;</td>\n",
       "      <td>&lt;NA&gt;</td>\n",
       "      <td>&lt;NA&gt;</td>\n",
       "      <td>$15.00</td>\n",
       "      <td>$0.00</td>\n",
       "      <td>2 weeks ago</td>\n",
       "      <td>&lt;NA&gt;</td>\n",
       "      <td>2016-09-06</td>\n",
       "      <td>2015-08-18</td>\n",
       "      <td>2016-09-01</td>\n",
       "      <td>f</td>\n",
       "      <td>f</td>\n",
       "      <td>f</td>\n",
       "      <td>f</td>\n",
       "    </tr>\n",
       "  </tbody>\n",
       "</table>\n",
       "</div>"
      ],
      "text/plain": [
       "   host_since  host_response_time host_response_rate host_acceptance_rate  \\\n",
       "0  2015-04-15                <NA>               <NA>                 <NA>   \n",
       "1  2012-06-07      within an hour               100%                 100%   \n",
       "2  2009-05-11  within a few hours               100%                  88%   \n",
       "3  2013-04-21  within a few hours               100%                  50%   \n",
       "4  2014-05-11      within an hour               100%                 100%   \n",
       "\n",
       "  host_is_superhost host_has_profile_pic host_identity_verified  \\\n",
       "0                 f                    t                      f   \n",
       "1                 f                    t                      t   \n",
       "2                 t                    t                      t   \n",
       "3                 f                    t                      f   \n",
       "4                 t                    t                      t   \n",
       "\n",
       "  is_location_exact    price weekly_price monthly_price security_deposit  \\\n",
       "0                 t  $250.00         <NA>          <NA>             <NA>   \n",
       "1                 t   $65.00      $400.00          <NA>           $95.00   \n",
       "2                 t   $65.00      $395.00     $1,350.00             <NA>   \n",
       "3                 f   $75.00         <NA>          <NA>          $100.00   \n",
       "4                 t   $79.00         <NA>          <NA>             <NA>   \n",
       "\n",
       "  cleaning_fee extra_people calendar_updated has_availability  \\\n",
       "0       $35.00        $0.00      2 weeks ago             <NA>   \n",
       "1       $10.00        $0.00       a week ago             <NA>   \n",
       "2         <NA>       $20.00       5 days ago             <NA>   \n",
       "3       $50.00       $25.00       a week ago             <NA>   \n",
       "4       $15.00        $0.00      2 weeks ago             <NA>   \n",
       "\n",
       "  calendar_last_scraped first_review last_review requires_license  \\\n",
       "0            2016-09-06         <NA>        <NA>                f   \n",
       "1            2016-09-06   2014-06-01  2016-08-13                f   \n",
       "2            2016-09-06   2009-07-19  2016-08-05                f   \n",
       "3            2016-09-06   2016-08-28  2016-08-28                f   \n",
       "4            2016-09-06   2015-08-18  2016-09-01                f   \n",
       "\n",
       "  instant_bookable require_guest_profile_picture  \\\n",
       "0                f                             f   \n",
       "1                t                             f   \n",
       "2                f                             t   \n",
       "3                f                             f   \n",
       "4                f                             f   \n",
       "\n",
       "  require_guest_phone_verification  \n",
       "0                                f  \n",
       "1                                f  \n",
       "2                                f  \n",
       "3                                f  \n",
       "4                                f  "
      ]
     },
     "execution_count": 13,
     "metadata": {},
     "output_type": "execute_result"
    }
   ],
   "source": [
    "# Look at string columns I suppose to be not string\n",
    "df_listings.loc[:,['host_since', 'host_response_time', 'host_response_rate',\n",
    "                   'host_acceptance_rate', 'host_is_superhost', 'host_has_profile_pic',\n",
    "                   'host_identity_verified', 'is_location_exact', 'price', 'weekly_price',\n",
    "                   'monthly_price', 'security_deposit', 'cleaning_fee', 'extra_people',\n",
    "                   'calendar_updated', 'has_availability', 'calendar_last_scraped', 'first_review',\n",
    "                   'last_review', 'requires_license', 'instant_bookable', 'require_guest_profile_picture',\n",
    "                   'require_guest_phone_verification'\n",
    "                  ]].head()"
   ]
  },
  {
   "cell_type": "markdown",
   "id": "07886275",
   "metadata": {},
   "source": [
    "### It seems I was only wrong with 'host_response_time'. Also 'calendar_updated' seems not so handy. One could consider to split it into the numeric part and in a field containing the unit of measurement.\n",
    "### Also we have a look ate the relative amount of missing fields for the columns I suppose to be boolian. This is necessary if we use the numpy backend for pandas. For this backend the type 'bool' must not contain missing values. Since we use the pyarrow backend here, we won't run into issues."
   ]
  },
  {
   "cell_type": "code",
   "execution_count": 14,
   "id": "e9f5304d",
   "metadata": {},
   "outputs": [
    {
     "data": {
      "text/plain": [
       "host_is_superhost                   0.00027\n",
       "host_has_profile_pic                0.00027\n",
       "host_identity_verified              0.00027\n",
       "is_location_exact                   0.00000\n",
       "requires_license                    0.00000\n",
       "instant_bookable                    0.00000\n",
       "require_guest_profile_picture       0.00000\n",
       "require_guest_phone_verification    0.00000\n",
       "dtype: float64"
      ]
     },
     "execution_count": 14,
     "metadata": {},
     "output_type": "execute_result"
    }
   ],
   "source": [
    "# Check if potential boolian fields have missing values\n",
    "df_listings.loc[:, ['host_is_superhost', 'host_has_profile_pic', 'host_identity_verified',\n",
    "           'is_location_exact', 'requires_license', 'instant_bookable', 'require_guest_profile_picture',\n",
    "           'require_guest_phone_verification'\n",
    "          ]].isna().mean().sort_values(ascending = False)"
   ]
  },
  {
   "cell_type": "markdown",
   "id": "51aaa7ef",
   "metadata": {},
   "source": [
    "### After being sure about the suspected data types we now convert them"
   ]
  },
  {
   "cell_type": "code",
   "execution_count": 16,
   "id": "2e310136",
   "metadata": {},
   "outputs": [],
   "source": [
    "# Convert data types\n",
    "# dates\n",
    "df_listings['host_since'] = df_listings.host_since.astype('date32[day][pyarrow]')\n",
    "df_listings['calendar_last_scraped'] = df_listings.calendar_last_scraped.astype('date32[day][pyarrow]')\n",
    "df_listings['first_review'] = df_listings.first_review.astype('date32[day][pyarrow]')\n",
    "df_listings['last_review'] = df_listings.last_review.astype('date32[day][pyarrow]')\n",
    "# boolian\n",
    "d = {'f': False, 't': True}\n",
    "df_listings['host_is_superhost'] = df_listings.host_is_superhost.str.strip().map(d).astype('bool[pyarrow]')\n",
    "df_listings['host_has_profile_pic'] = df_listings.host_has_profile_pic.str.strip().map(d).astype('bool[pyarrow]')\n",
    "df_listings['host_identity_verified'] = df_listings.host_identity_verified.str.strip().map(d).astype('bool[pyarrow]')\n",
    "df_listings['is_location_exact'] = df_listings.is_location_exact.str.strip().map(d).astype('bool[pyarrow]')\n",
    "df_listings['requires_license'] = df_listings.requires_license.str.strip().map(d).astype('bool[pyarrow]')\n",
    "df_listings['instant_bookable'] = df_listings.instant_bookable.str.strip().map(d).astype('bool[pyarrow]')\n",
    "df_listings['has_availability'] = df_listings.has_availability.str.strip().map(d).astype('bool[pyarrow]')\n",
    "df_listings['require_guest_profile_picture'] = df_listings.require_guest_profile_picture.str.strip().map(d).astype('bool[pyarrow]')\n",
    "df_listings['require_guest_phone_verification'] = df_listings.require_guest_phone_verification.str.strip().map(d).astype('bool[pyarrow]')\n",
    "# float\n",
    "df_listings['price'] = df_listings.price.str.replace(\"[^0-9\\.]\", \"\", regex = True).astype('float32[pyarrow]')\n",
    "df_listings['weekly_price'] = df_listings.weekly_price.str.replace(\"[^0-9\\.]\", \"\", regex = True).astype('float32[pyarrow]')\n",
    "df_listings['monthly_price'] = df_listings.monthly_price.str.replace(\"[^0-9\\.]\", \"\", regex = True).astype('float32[pyarrow]')\n",
    "df_listings['security_deposit'] = df_listings.security_deposit.str.replace(\"[^0-9\\.]\", \"\", regex = True).astype('float32[pyarrow]')\n",
    "df_listings['cleaning_fee'] = df_listings.cleaning_fee.str.replace(\"[^0-9\\.]\", \"\", regex = True).astype('float32[pyarrow]')\n",
    "df_listings['extra_people'] = df_listings.extra_people.str.replace(\"[^0-9\\.]\", \"\", regex = True).astype('float32[pyarrow]')\n",
    "# Percentage\n",
    "df_listings['host_response_rate'] = df_listings.host_response_rate.str.strip(\"%\").astype('float32[pyarrow]')/100\n",
    "df_listings['host_acceptance_rate'] = df_listings.host_acceptance_rate.str.strip(\"%\").astype('float32[pyarrow]')/100\n"
   ]
  },
  {
   "cell_type": "markdown",
   "id": "ff93bc80",
   "metadata": {},
   "source": [
    "### After this is done we check the relative amount of missing values for each column. The field 'license' is always missing."
   ]
  },
  {
   "cell_type": "code",
   "execution_count": 17,
   "id": "7097280b",
   "metadata": {},
   "outputs": [
    {
     "data": {
      "text/plain": [
       "license            1.000000\n",
       "square_feet        0.979333\n",
       "interaction        0.725652\n",
       "access             0.716872\n",
       "house_rules        0.676753\n",
       "                     ...   \n",
       "bed_type           0.000000\n",
       "amenities          0.000000\n",
       "price              0.000000\n",
       "guests_included    0.000000\n",
       "country            0.000000\n",
       "Length: 95, dtype: float64"
      ]
     },
     "execution_count": 17,
     "metadata": {},
     "output_type": "execute_result"
    }
   ],
   "source": [
    "# Percentage of missing values in listings\n",
    "df_listings.isna().mean().sort_values(ascending = False)"
   ]
  },
  {
   "cell_type": "markdown",
   "id": "61e1bb49",
   "metadata": {},
   "source": [
    "### Also we check if there are fields with only one distinct value. Six field are returned."
   ]
  },
  {
   "cell_type": "code",
   "execution_count": 18,
   "id": "987836da",
   "metadata": {},
   "outputs": [
    {
     "data": {
      "text/plain": [
       "country                1\n",
       "has_availability       1\n",
       "country_code           1\n",
       "jurisdiction_names     1\n",
       "experiences_offered    1\n",
       "requires_license       1\n",
       "dtype: int64"
      ]
     },
     "execution_count": 18,
     "metadata": {},
     "output_type": "execute_result"
    }
   ],
   "source": [
    "# Are there fields with only one distinct value?\n",
    "df_listings.nunique().sort_values()[df_listings.nunique() == 1]"
   ]
  },
  {
   "cell_type": "markdown",
   "id": "3e0ff75a",
   "metadata": {},
   "source": [
    "### Let's have a look at those six fields"
   ]
  },
  {
   "cell_type": "code",
   "execution_count": 19,
   "id": "ec474bb6",
   "metadata": {},
   "outputs": [
    {
     "data": {
      "text/html": [
       "<div>\n",
       "<style scoped>\n",
       "    .dataframe tbody tr th:only-of-type {\n",
       "        vertical-align: middle;\n",
       "    }\n",
       "\n",
       "    .dataframe tbody tr th {\n",
       "        vertical-align: top;\n",
       "    }\n",
       "\n",
       "    .dataframe thead th {\n",
       "        text-align: right;\n",
       "    }\n",
       "</style>\n",
       "<table border=\"1\" class=\"dataframe\">\n",
       "  <thead>\n",
       "    <tr style=\"text-align: right;\">\n",
       "      <th></th>\n",
       "      <th>country_code</th>\n",
       "      <th>country</th>\n",
       "      <th>has_availability</th>\n",
       "      <th>jurisdiction_names</th>\n",
       "      <th>experiences_offered</th>\n",
       "      <th>requires_license</th>\n",
       "    </tr>\n",
       "  </thead>\n",
       "  <tbody>\n",
       "    <tr>\n",
       "      <th>0</th>\n",
       "      <td>US</td>\n",
       "      <td>United States</td>\n",
       "      <td>&lt;NA&gt;</td>\n",
       "      <td>&lt;NA&gt;</td>\n",
       "      <td>none</td>\n",
       "      <td>False</td>\n",
       "    </tr>\n",
       "    <tr>\n",
       "      <th>1</th>\n",
       "      <td>US</td>\n",
       "      <td>United States</td>\n",
       "      <td>&lt;NA&gt;</td>\n",
       "      <td>&lt;NA&gt;</td>\n",
       "      <td>none</td>\n",
       "      <td>False</td>\n",
       "    </tr>\n",
       "    <tr>\n",
       "      <th>2</th>\n",
       "      <td>US</td>\n",
       "      <td>United States</td>\n",
       "      <td>&lt;NA&gt;</td>\n",
       "      <td>&lt;NA&gt;</td>\n",
       "      <td>none</td>\n",
       "      <td>False</td>\n",
       "    </tr>\n",
       "    <tr>\n",
       "      <th>3</th>\n",
       "      <td>US</td>\n",
       "      <td>United States</td>\n",
       "      <td>&lt;NA&gt;</td>\n",
       "      <td>&lt;NA&gt;</td>\n",
       "      <td>none</td>\n",
       "      <td>False</td>\n",
       "    </tr>\n",
       "    <tr>\n",
       "      <th>4</th>\n",
       "      <td>US</td>\n",
       "      <td>United States</td>\n",
       "      <td>&lt;NA&gt;</td>\n",
       "      <td>&lt;NA&gt;</td>\n",
       "      <td>none</td>\n",
       "      <td>False</td>\n",
       "    </tr>\n",
       "  </tbody>\n",
       "</table>\n",
       "</div>"
      ],
      "text/plain": [
       "  country_code        country has_availability jurisdiction_names  \\\n",
       "0           US  United States             <NA>               <NA>   \n",
       "1           US  United States             <NA>               <NA>   \n",
       "2           US  United States             <NA>               <NA>   \n",
       "3           US  United States             <NA>               <NA>   \n",
       "4           US  United States             <NA>               <NA>   \n",
       "\n",
       "  experiences_offered requires_license  \n",
       "0                none            False  \n",
       "1                none            False  \n",
       "2                none            False  \n",
       "3                none            False  \n",
       "4                none            False  "
      ]
     },
     "execution_count": 19,
     "metadata": {},
     "output_type": "execute_result"
    }
   ],
   "source": [
    "# Look at unique-value fields\n",
    "df_listings.loc[:, ['country_code','country','has_availability',\n",
    "                    'jurisdiction_names','experiences_offered',\n",
    "                    'requires_license'\n",
    "                   ]].head()"
   ]
  },
  {
   "cell_type": "markdown",
   "id": "aca9df68",
   "metadata": {},
   "source": [
    "### Since 'license' is always missing and 'country_code', 'country', 'has_availability', 'jurisdiction_names', 'experiences_offered' and 'requires_license' just hold one distinct value, they don't add any information for our analysis. Thus they can be dropped."
   ]
  },
  {
   "cell_type": "code",
   "execution_count": 20,
   "id": "26a44921",
   "metadata": {},
   "outputs": [],
   "source": [
    "# Since the field license is always missing we can drop it\n",
    "# we can also drop all fields with one distinct value since they don't add any information\n",
    "df_listings = df_listings.drop(columns = ['license', 'country_code','country','has_availability',\n",
    "                    'jurisdiction_names','experiences_offered',\n",
    "                    'requires_license'])"
   ]
  },
  {
   "cell_type": "markdown",
   "id": "e6efd574",
   "metadata": {},
   "source": [
    "### The 'listings' table was the only one that already contained information about the city. So we have a look on the distinct values in the two original files for each city. We can see that the field not only contain the values 'Boston' and 'Seattle'."
   ]
  },
  {
   "cell_type": "code",
   "execution_count": 21,
   "id": "cdf710a9",
   "metadata": {},
   "outputs": [
    {
     "data": {
      "text/plain": [
       "city\n",
       "Boston              3381\n",
       "Roxbury Crossing      24\n",
       "Somerville            19\n",
       "Jamaica Plain         18\n",
       "Brookline             18\n",
       "Name: count, dtype: int64[pyarrow]"
      ]
     },
     "execution_count": 21,
     "metadata": {},
     "output_type": "execute_result"
    }
   ],
   "source": [
    "# How many distinct values for 'city' are for both listing data sets? We expect one per data set\n",
    "df_listings_boston['city'].value_counts().head()"
   ]
  },
  {
   "cell_type": "code",
   "execution_count": 22,
   "id": "628fc4ae",
   "metadata": {},
   "outputs": [
    {
     "data": {
      "text/plain": [
       "city\n",
       "Seattle             3810\n",
       "West Seattle           2\n",
       "Seattle                2\n",
       "Ballard, Seattle       1\n",
       "西雅图                    1\n",
       "Name: count, dtype: int64[pyarrow]"
      ]
     },
     "execution_count": 22,
     "metadata": {},
     "output_type": "execute_result"
    }
   ],
   "source": [
    "df_listings_seattle['city'].value_counts().head()"
   ]
  },
  {
   "cell_type": "markdown",
   "id": "1e123c78",
   "metadata": {},
   "source": [
    "### I will map every value for 'city' to Boston or Seattle, respectively."
   ]
  },
  {
   "cell_type": "code",
   "execution_count": 23,
   "id": "af2af951",
   "metadata": {},
   "outputs": [],
   "source": [
    "# I map every entry for city in the Boston data set to 'Boston' and do the same for Seattle\n",
    "# Then I combine the two dictionaries\n",
    "b = {}\n",
    "for i in df_listings_boston.city.unique():\n",
    "    b[i] = 'Boston'\n",
    "s = {}\n",
    "for i in df_listings_seattle.city.unique():\n",
    "    s[i] = 'Seattle'\n",
    "cities = b | s"
   ]
  },
  {
   "cell_type": "code",
   "execution_count": 24,
   "id": "b927f079",
   "metadata": {},
   "outputs": [],
   "source": [
    "# Now I map all values to 'Boston' or 'Seattle' respectively\n",
    "df_listings['city'] = df_listings.city.map(cities)"
   ]
  },
  {
   "cell_type": "markdown",
   "id": "57fd1c78",
   "metadata": {},
   "source": [
    "### Now the only values left are 'Boston' and 'Seattle'."
   ]
  },
  {
   "cell_type": "code",
   "execution_count": 25,
   "id": "bfd3b26b",
   "metadata": {},
   "outputs": [
    {
     "data": {
      "text/plain": [
       "array(['Boston', 'Seattle'], dtype=object)"
      ]
     },
     "execution_count": 25,
     "metadata": {},
     "output_type": "execute_result"
    }
   ],
   "source": [
    "# The only values left are 'Boston' and 'Seattle'\n",
    "df_listings.city.unique()"
   ]
  },
  {
   "cell_type": "code",
   "execution_count": 26,
   "id": "3b84dc8c",
   "metadata": {},
   "outputs": [],
   "source": [
    "# Make 'city' pyarrow dtype again\n",
    "df_listings['city'] = df_listings.city.astype('string[pyarrow]')\n",
    "df_listings['id'] = df_listings.id.astype('string[pyarrow]')"
   ]
  },
  {
   "cell_type": "markdown",
   "id": "662862db",
   "metadata": {},
   "source": [
    "### Take a look at the cleansed data set again. Everything seems fine."
   ]
  },
  {
   "cell_type": "code",
   "execution_count": 27,
   "id": "6e7a3d28",
   "metadata": {},
   "outputs": [
    {
     "data": {
      "text/html": [
       "<div>\n",
       "<style scoped>\n",
       "    .dataframe tbody tr th:only-of-type {\n",
       "        vertical-align: middle;\n",
       "    }\n",
       "\n",
       "    .dataframe tbody tr th {\n",
       "        vertical-align: top;\n",
       "    }\n",
       "\n",
       "    .dataframe thead th {\n",
       "        text-align: right;\n",
       "    }\n",
       "</style>\n",
       "<table border=\"1\" class=\"dataframe\">\n",
       "  <thead>\n",
       "    <tr style=\"text-align: right;\">\n",
       "      <th></th>\n",
       "      <th>id</th>\n",
       "      <th>listing_url</th>\n",
       "      <th>scrape_id</th>\n",
       "      <th>last_scraped</th>\n",
       "      <th>name</th>\n",
       "      <th>summary</th>\n",
       "      <th>space</th>\n",
       "      <th>description</th>\n",
       "      <th>neighborhood_overview</th>\n",
       "      <th>notes</th>\n",
       "      <th>transit</th>\n",
       "      <th>access</th>\n",
       "      <th>interaction</th>\n",
       "      <th>house_rules</th>\n",
       "      <th>thumbnail_url</th>\n",
       "      <th>medium_url</th>\n",
       "      <th>picture_url</th>\n",
       "      <th>xl_picture_url</th>\n",
       "      <th>host_id</th>\n",
       "      <th>host_url</th>\n",
       "      <th>...</th>\n",
       "      <th>availability_60</th>\n",
       "      <th>availability_90</th>\n",
       "      <th>availability_365</th>\n",
       "      <th>calendar_last_scraped</th>\n",
       "      <th>number_of_reviews</th>\n",
       "      <th>first_review</th>\n",
       "      <th>last_review</th>\n",
       "      <th>review_scores_rating</th>\n",
       "      <th>review_scores_accuracy</th>\n",
       "      <th>review_scores_cleanliness</th>\n",
       "      <th>review_scores_checkin</th>\n",
       "      <th>review_scores_communication</th>\n",
       "      <th>review_scores_location</th>\n",
       "      <th>review_scores_value</th>\n",
       "      <th>instant_bookable</th>\n",
       "      <th>cancellation_policy</th>\n",
       "      <th>require_guest_profile_picture</th>\n",
       "      <th>require_guest_phone_verification</th>\n",
       "      <th>calculated_host_listings_count</th>\n",
       "      <th>reviews_per_month</th>\n",
       "    </tr>\n",
       "  </thead>\n",
       "  <tbody>\n",
       "    <tr>\n",
       "      <th>0</th>\n",
       "      <td>12147973</td>\n",
       "      <td>https://www.airbnb.com/rooms/12147973</td>\n",
       "      <td>20160906204935</td>\n",
       "      <td>2016-09-07</td>\n",
       "      <td>Sunny Bungalow in the City</td>\n",
       "      <td>Cozy, sunny, family home.  Master bedroom high...</td>\n",
       "      <td>The house has an open and cozy feel at the sam...</td>\n",
       "      <td>Cozy, sunny, family home.  Master bedroom high...</td>\n",
       "      <td>Roslindale is quiet, convenient and friendly. ...</td>\n",
       "      <td>&lt;NA&gt;</td>\n",
       "      <td>The bus stop is 2 blocks away, and frequent. B...</td>\n",
       "      <td>You will have access to 2 bedrooms, a living r...</td>\n",
       "      <td>&lt;NA&gt;</td>\n",
       "      <td>Clean up and treat the home the way you'd like...</td>\n",
       "      <td>https://a2.muscache.com/im/pictures/c0842db1-e...</td>\n",
       "      <td>https://a2.muscache.com/im/pictures/c0842db1-e...</td>\n",
       "      <td>https://a2.muscache.com/im/pictures/c0842db1-e...</td>\n",
       "      <td>https://a2.muscache.com/im/pictures/c0842db1-e...</td>\n",
       "      <td>31303940</td>\n",
       "      <td>https://www.airbnb.com/users/show/31303940</td>\n",
       "      <td>...</td>\n",
       "      <td>0</td>\n",
       "      <td>0</td>\n",
       "      <td>0</td>\n",
       "      <td>2016-09-06</td>\n",
       "      <td>0</td>\n",
       "      <td>&lt;NA&gt;</td>\n",
       "      <td>&lt;NA&gt;</td>\n",
       "      <td>&lt;NA&gt;</td>\n",
       "      <td>&lt;NA&gt;</td>\n",
       "      <td>&lt;NA&gt;</td>\n",
       "      <td>&lt;NA&gt;</td>\n",
       "      <td>&lt;NA&gt;</td>\n",
       "      <td>&lt;NA&gt;</td>\n",
       "      <td>&lt;NA&gt;</td>\n",
       "      <td>False</td>\n",
       "      <td>moderate</td>\n",
       "      <td>False</td>\n",
       "      <td>False</td>\n",
       "      <td>1</td>\n",
       "      <td>&lt;NA&gt;</td>\n",
       "    </tr>\n",
       "    <tr>\n",
       "      <th>1</th>\n",
       "      <td>3075044</td>\n",
       "      <td>https://www.airbnb.com/rooms/3075044</td>\n",
       "      <td>20160906204935</td>\n",
       "      <td>2016-09-07</td>\n",
       "      <td>Charming room in pet friendly apt</td>\n",
       "      <td>Charming and quiet room in a second floor 1910...</td>\n",
       "      <td>Small but cozy and quite room with a full size...</td>\n",
       "      <td>Charming and quiet room in a second floor 1910...</td>\n",
       "      <td>The room is in Roslindale, a diverse and prima...</td>\n",
       "      <td>If you don't have a US cell phone, you can tex...</td>\n",
       "      <td>Plenty of safe street parking. Bus stops a few...</td>\n",
       "      <td>Apt has one more bedroom (which I use) and lar...</td>\n",
       "      <td>If I am at home, I am likely working in my hom...</td>\n",
       "      <td>Pet friendly but please confirm with me if the...</td>\n",
       "      <td>https://a1.muscache.com/im/pictures/39327812/d...</td>\n",
       "      <td>https://a1.muscache.com/im/pictures/39327812/d...</td>\n",
       "      <td>https://a1.muscache.com/im/pictures/39327812/d...</td>\n",
       "      <td>https://a1.muscache.com/im/pictures/39327812/d...</td>\n",
       "      <td>2572247</td>\n",
       "      <td>https://www.airbnb.com/users/show/2572247</td>\n",
       "      <td>...</td>\n",
       "      <td>54</td>\n",
       "      <td>84</td>\n",
       "      <td>359</td>\n",
       "      <td>2016-09-06</td>\n",
       "      <td>36</td>\n",
       "      <td>2014-06-01</td>\n",
       "      <td>2016-08-13</td>\n",
       "      <td>94</td>\n",
       "      <td>10</td>\n",
       "      <td>9</td>\n",
       "      <td>10</td>\n",
       "      <td>10</td>\n",
       "      <td>9</td>\n",
       "      <td>9</td>\n",
       "      <td>True</td>\n",
       "      <td>moderate</td>\n",
       "      <td>False</td>\n",
       "      <td>False</td>\n",
       "      <td>1</td>\n",
       "      <td>1.3</td>\n",
       "    </tr>\n",
       "    <tr>\n",
       "      <th>2</th>\n",
       "      <td>6976</td>\n",
       "      <td>https://www.airbnb.com/rooms/6976</td>\n",
       "      <td>20160906204935</td>\n",
       "      <td>2016-09-07</td>\n",
       "      <td>Mexican Folk Art Haven in Boston</td>\n",
       "      <td>Come stay with a friendly, middle-aged guy in ...</td>\n",
       "      <td>Come stay with a friendly, middle-aged guy in ...</td>\n",
       "      <td>Come stay with a friendly, middle-aged guy in ...</td>\n",
       "      <td>The LOCATION: Roslindale is a safe and diverse...</td>\n",
       "      <td>I am in a scenic part of Boston with a couple ...</td>\n",
       "      <td>PUBLIC TRANSPORTATION: From the house, quick p...</td>\n",
       "      <td>I am living in the apartment during your stay,...</td>\n",
       "      <td>ABOUT ME: I'm a laid-back, friendly, unmarried...</td>\n",
       "      <td>I encourage you to use my kitchen, cooking and...</td>\n",
       "      <td>https://a2.muscache.com/im/pictures/6ae8335d-9...</td>\n",
       "      <td>https://a2.muscache.com/im/pictures/6ae8335d-9...</td>\n",
       "      <td>https://a2.muscache.com/im/pictures/6ae8335d-9...</td>\n",
       "      <td>https://a2.muscache.com/im/pictures/6ae8335d-9...</td>\n",
       "      <td>16701</td>\n",
       "      <td>https://www.airbnb.com/users/show/16701</td>\n",
       "      <td>...</td>\n",
       "      <td>46</td>\n",
       "      <td>61</td>\n",
       "      <td>319</td>\n",
       "      <td>2016-09-06</td>\n",
       "      <td>41</td>\n",
       "      <td>2009-07-19</td>\n",
       "      <td>2016-08-05</td>\n",
       "      <td>98</td>\n",
       "      <td>10</td>\n",
       "      <td>9</td>\n",
       "      <td>10</td>\n",
       "      <td>10</td>\n",
       "      <td>9</td>\n",
       "      <td>10</td>\n",
       "      <td>False</td>\n",
       "      <td>moderate</td>\n",
       "      <td>True</td>\n",
       "      <td>False</td>\n",
       "      <td>1</td>\n",
       "      <td>0.47</td>\n",
       "    </tr>\n",
       "    <tr>\n",
       "      <th>3</th>\n",
       "      <td>1436513</td>\n",
       "      <td>https://www.airbnb.com/rooms/1436513</td>\n",
       "      <td>20160906204935</td>\n",
       "      <td>2016-09-07</td>\n",
       "      <td>Spacious Sunny Bedroom Suite in Historic Home</td>\n",
       "      <td>Come experience the comforts of home away from...</td>\n",
       "      <td>Most places you find in Boston are small howev...</td>\n",
       "      <td>Come experience the comforts of home away from...</td>\n",
       "      <td>Roslindale is a lovely little neighborhood loc...</td>\n",
       "      <td>Please be mindful of the property as it is old...</td>\n",
       "      <td>There are buses that stop right in front of th...</td>\n",
       "      <td>The basement has a washer dryer and gym area. ...</td>\n",
       "      <td>We do live in the house therefore might be som...</td>\n",
       "      <td>- The bathroom and house are shared so please ...</td>\n",
       "      <td>https://a2.muscache.com/im/pictures/39764190-1...</td>\n",
       "      <td>https://a2.muscache.com/im/pictures/39764190-1...</td>\n",
       "      <td>https://a2.muscache.com/im/pictures/39764190-1...</td>\n",
       "      <td>https://a2.muscache.com/im/pictures/39764190-1...</td>\n",
       "      <td>6031442</td>\n",
       "      <td>https://www.airbnb.com/users/show/6031442</td>\n",
       "      <td>...</td>\n",
       "      <td>16</td>\n",
       "      <td>26</td>\n",
       "      <td>98</td>\n",
       "      <td>2016-09-06</td>\n",
       "      <td>1</td>\n",
       "      <td>2016-08-28</td>\n",
       "      <td>2016-08-28</td>\n",
       "      <td>100</td>\n",
       "      <td>10</td>\n",
       "      <td>10</td>\n",
       "      <td>10</td>\n",
       "      <td>10</td>\n",
       "      <td>10</td>\n",
       "      <td>10</td>\n",
       "      <td>False</td>\n",
       "      <td>moderate</td>\n",
       "      <td>False</td>\n",
       "      <td>False</td>\n",
       "      <td>1</td>\n",
       "      <td>1.0</td>\n",
       "    </tr>\n",
       "    <tr>\n",
       "      <th>4</th>\n",
       "      <td>7651065</td>\n",
       "      <td>https://www.airbnb.com/rooms/7651065</td>\n",
       "      <td>20160906204935</td>\n",
       "      <td>2016-09-07</td>\n",
       "      <td>Come Home to Boston</td>\n",
       "      <td>My comfy, clean and relaxing home is one block...</td>\n",
       "      <td>Clean, attractive, private room, one block fro...</td>\n",
       "      <td>My comfy, clean and relaxing home is one block...</td>\n",
       "      <td>I love the proximity to downtown, the neighbor...</td>\n",
       "      <td>I have one roommate who lives on the lower lev...</td>\n",
       "      <td>From Logan Airport  and South Station you have...</td>\n",
       "      <td>You will have access to the front and side por...</td>\n",
       "      <td>I love my city and really enjoy sharing it wit...</td>\n",
       "      <td>Please no smoking in the house, porch or on th...</td>\n",
       "      <td>https://a1.muscache.com/im/pictures/97154760/8...</td>\n",
       "      <td>https://a1.muscache.com/im/pictures/97154760/8...</td>\n",
       "      <td>https://a1.muscache.com/im/pictures/97154760/8...</td>\n",
       "      <td>https://a1.muscache.com/im/pictures/97154760/8...</td>\n",
       "      <td>15396970</td>\n",
       "      <td>https://www.airbnb.com/users/show/15396970</td>\n",
       "      <td>...</td>\n",
       "      <td>34</td>\n",
       "      <td>59</td>\n",
       "      <td>334</td>\n",
       "      <td>2016-09-06</td>\n",
       "      <td>29</td>\n",
       "      <td>2015-08-18</td>\n",
       "      <td>2016-09-01</td>\n",
       "      <td>99</td>\n",
       "      <td>10</td>\n",
       "      <td>10</td>\n",
       "      <td>10</td>\n",
       "      <td>10</td>\n",
       "      <td>9</td>\n",
       "      <td>10</td>\n",
       "      <td>False</td>\n",
       "      <td>flexible</td>\n",
       "      <td>False</td>\n",
       "      <td>False</td>\n",
       "      <td>1</td>\n",
       "      <td>2.25</td>\n",
       "    </tr>\n",
       "  </tbody>\n",
       "</table>\n",
       "<p>5 rows × 88 columns</p>\n",
       "</div>"
      ],
      "text/plain": [
       "         id                            listing_url       scrape_id  \\\n",
       "0  12147973  https://www.airbnb.com/rooms/12147973  20160906204935   \n",
       "1   3075044   https://www.airbnb.com/rooms/3075044  20160906204935   \n",
       "2      6976      https://www.airbnb.com/rooms/6976  20160906204935   \n",
       "3   1436513   https://www.airbnb.com/rooms/1436513  20160906204935   \n",
       "4   7651065   https://www.airbnb.com/rooms/7651065  20160906204935   \n",
       "\n",
       "  last_scraped                                           name  \\\n",
       "0   2016-09-07                     Sunny Bungalow in the City   \n",
       "1   2016-09-07              Charming room in pet friendly apt   \n",
       "2   2016-09-07               Mexican Folk Art Haven in Boston   \n",
       "3   2016-09-07  Spacious Sunny Bedroom Suite in Historic Home   \n",
       "4   2016-09-07                            Come Home to Boston   \n",
       "\n",
       "                                             summary  \\\n",
       "0  Cozy, sunny, family home.  Master bedroom high...   \n",
       "1  Charming and quiet room in a second floor 1910...   \n",
       "2  Come stay with a friendly, middle-aged guy in ...   \n",
       "3  Come experience the comforts of home away from...   \n",
       "4  My comfy, clean and relaxing home is one block...   \n",
       "\n",
       "                                               space  \\\n",
       "0  The house has an open and cozy feel at the sam...   \n",
       "1  Small but cozy and quite room with a full size...   \n",
       "2  Come stay with a friendly, middle-aged guy in ...   \n",
       "3  Most places you find in Boston are small howev...   \n",
       "4  Clean, attractive, private room, one block fro...   \n",
       "\n",
       "                                         description  \\\n",
       "0  Cozy, sunny, family home.  Master bedroom high...   \n",
       "1  Charming and quiet room in a second floor 1910...   \n",
       "2  Come stay with a friendly, middle-aged guy in ...   \n",
       "3  Come experience the comforts of home away from...   \n",
       "4  My comfy, clean and relaxing home is one block...   \n",
       "\n",
       "                               neighborhood_overview  \\\n",
       "0  Roslindale is quiet, convenient and friendly. ...   \n",
       "1  The room is in Roslindale, a diverse and prima...   \n",
       "2  The LOCATION: Roslindale is a safe and diverse...   \n",
       "3  Roslindale is a lovely little neighborhood loc...   \n",
       "4  I love the proximity to downtown, the neighbor...   \n",
       "\n",
       "                                               notes  \\\n",
       "0                                               <NA>   \n",
       "1  If you don't have a US cell phone, you can tex...   \n",
       "2  I am in a scenic part of Boston with a couple ...   \n",
       "3  Please be mindful of the property as it is old...   \n",
       "4  I have one roommate who lives on the lower lev...   \n",
       "\n",
       "                                             transit  \\\n",
       "0  The bus stop is 2 blocks away, and frequent. B...   \n",
       "1  Plenty of safe street parking. Bus stops a few...   \n",
       "2  PUBLIC TRANSPORTATION: From the house, quick p...   \n",
       "3  There are buses that stop right in front of th...   \n",
       "4  From Logan Airport  and South Station you have...   \n",
       "\n",
       "                                              access  \\\n",
       "0  You will have access to 2 bedrooms, a living r...   \n",
       "1  Apt has one more bedroom (which I use) and lar...   \n",
       "2  I am living in the apartment during your stay,...   \n",
       "3  The basement has a washer dryer and gym area. ...   \n",
       "4  You will have access to the front and side por...   \n",
       "\n",
       "                                         interaction  \\\n",
       "0                                               <NA>   \n",
       "1  If I am at home, I am likely working in my hom...   \n",
       "2  ABOUT ME: I'm a laid-back, friendly, unmarried...   \n",
       "3  We do live in the house therefore might be som...   \n",
       "4  I love my city and really enjoy sharing it wit...   \n",
       "\n",
       "                                         house_rules  \\\n",
       "0  Clean up and treat the home the way you'd like...   \n",
       "1  Pet friendly but please confirm with me if the...   \n",
       "2  I encourage you to use my kitchen, cooking and...   \n",
       "3  - The bathroom and house are shared so please ...   \n",
       "4  Please no smoking in the house, porch or on th...   \n",
       "\n",
       "                                       thumbnail_url  \\\n",
       "0  https://a2.muscache.com/im/pictures/c0842db1-e...   \n",
       "1  https://a1.muscache.com/im/pictures/39327812/d...   \n",
       "2  https://a2.muscache.com/im/pictures/6ae8335d-9...   \n",
       "3  https://a2.muscache.com/im/pictures/39764190-1...   \n",
       "4  https://a1.muscache.com/im/pictures/97154760/8...   \n",
       "\n",
       "                                          medium_url  \\\n",
       "0  https://a2.muscache.com/im/pictures/c0842db1-e...   \n",
       "1  https://a1.muscache.com/im/pictures/39327812/d...   \n",
       "2  https://a2.muscache.com/im/pictures/6ae8335d-9...   \n",
       "3  https://a2.muscache.com/im/pictures/39764190-1...   \n",
       "4  https://a1.muscache.com/im/pictures/97154760/8...   \n",
       "\n",
       "                                         picture_url  \\\n",
       "0  https://a2.muscache.com/im/pictures/c0842db1-e...   \n",
       "1  https://a1.muscache.com/im/pictures/39327812/d...   \n",
       "2  https://a2.muscache.com/im/pictures/6ae8335d-9...   \n",
       "3  https://a2.muscache.com/im/pictures/39764190-1...   \n",
       "4  https://a1.muscache.com/im/pictures/97154760/8...   \n",
       "\n",
       "                                      xl_picture_url   host_id  \\\n",
       "0  https://a2.muscache.com/im/pictures/c0842db1-e...  31303940   \n",
       "1  https://a1.muscache.com/im/pictures/39327812/d...   2572247   \n",
       "2  https://a2.muscache.com/im/pictures/6ae8335d-9...     16701   \n",
       "3  https://a2.muscache.com/im/pictures/39764190-1...   6031442   \n",
       "4  https://a1.muscache.com/im/pictures/97154760/8...  15396970   \n",
       "\n",
       "                                     host_url  ... availability_60  \\\n",
       "0  https://www.airbnb.com/users/show/31303940  ...               0   \n",
       "1   https://www.airbnb.com/users/show/2572247  ...              54   \n",
       "2     https://www.airbnb.com/users/show/16701  ...              46   \n",
       "3   https://www.airbnb.com/users/show/6031442  ...              16   \n",
       "4  https://www.airbnb.com/users/show/15396970  ...              34   \n",
       "\n",
       "  availability_90 availability_365 calendar_last_scraped number_of_reviews  \\\n",
       "0               0                0            2016-09-06                 0   \n",
       "1              84              359            2016-09-06                36   \n",
       "2              61              319            2016-09-06                41   \n",
       "3              26               98            2016-09-06                 1   \n",
       "4              59              334            2016-09-06                29   \n",
       "\n",
       "   first_review  last_review review_scores_rating review_scores_accuracy  \\\n",
       "0          <NA>         <NA>                 <NA>                   <NA>   \n",
       "1    2014-06-01   2016-08-13                   94                     10   \n",
       "2    2009-07-19   2016-08-05                   98                     10   \n",
       "3    2016-08-28   2016-08-28                  100                     10   \n",
       "4    2015-08-18   2016-09-01                   99                     10   \n",
       "\n",
       "  review_scores_cleanliness review_scores_checkin  \\\n",
       "0                      <NA>                  <NA>   \n",
       "1                         9                    10   \n",
       "2                         9                    10   \n",
       "3                        10                    10   \n",
       "4                        10                    10   \n",
       "\n",
       "   review_scores_communication  review_scores_location review_scores_value  \\\n",
       "0                         <NA>                    <NA>                <NA>   \n",
       "1                           10                       9                   9   \n",
       "2                           10                       9                  10   \n",
       "3                           10                      10                  10   \n",
       "4                           10                       9                  10   \n",
       "\n",
       "  instant_bookable cancellation_policy require_guest_profile_picture  \\\n",
       "0            False            moderate                         False   \n",
       "1             True            moderate                         False   \n",
       "2            False            moderate                          True   \n",
       "3            False            moderate                         False   \n",
       "4            False            flexible                         False   \n",
       "\n",
       "  require_guest_phone_verification calculated_host_listings_count  \\\n",
       "0                            False                              1   \n",
       "1                            False                              1   \n",
       "2                            False                              1   \n",
       "3                            False                              1   \n",
       "4                            False                              1   \n",
       "\n",
       "  reviews_per_month  \n",
       "0              <NA>  \n",
       "1               1.3  \n",
       "2              0.47  \n",
       "3               1.0  \n",
       "4              2.25  \n",
       "\n",
       "[5 rows x 88 columns]"
      ]
     },
     "execution_count": 27,
     "metadata": {},
     "output_type": "execute_result"
    }
   ],
   "source": [
    "# First rows of listings\n",
    "df_listings.head(5)"
   ]
  },
  {
   "cell_type": "markdown",
   "id": "a66dec5c",
   "metadata": {},
   "source": [
    "## Reviews"
   ]
  },
  {
   "cell_type": "markdown",
   "id": "e8daa42b",
   "metadata": {},
   "source": [
    "### Finally, we have to look at the table 'reviews'. Therefore we print the head and the data types."
   ]
  },
  {
   "cell_type": "code",
   "execution_count": 28,
   "id": "5696b228",
   "metadata": {},
   "outputs": [
    {
     "data": {
      "text/html": [
       "<div>\n",
       "<style scoped>\n",
       "    .dataframe tbody tr th:only-of-type {\n",
       "        vertical-align: middle;\n",
       "    }\n",
       "\n",
       "    .dataframe tbody tr th {\n",
       "        vertical-align: top;\n",
       "    }\n",
       "\n",
       "    .dataframe thead th {\n",
       "        text-align: right;\n",
       "    }\n",
       "</style>\n",
       "<table border=\"1\" class=\"dataframe\">\n",
       "  <thead>\n",
       "    <tr style=\"text-align: right;\">\n",
       "      <th></th>\n",
       "      <th>listing_id</th>\n",
       "      <th>id</th>\n",
       "      <th>date</th>\n",
       "      <th>reviewer_id</th>\n",
       "      <th>reviewer_name</th>\n",
       "      <th>comments</th>\n",
       "      <th>city</th>\n",
       "    </tr>\n",
       "  </thead>\n",
       "  <tbody>\n",
       "    <tr>\n",
       "      <th>0</th>\n",
       "      <td>1178162</td>\n",
       "      <td>4724140</td>\n",
       "      <td>2013-05-21</td>\n",
       "      <td>4298113</td>\n",
       "      <td>Olivier</td>\n",
       "      <td>My stay at islam's place was really cool! Good...</td>\n",
       "      <td>Boston</td>\n",
       "    </tr>\n",
       "    <tr>\n",
       "      <th>1</th>\n",
       "      <td>1178162</td>\n",
       "      <td>4869189</td>\n",
       "      <td>2013-05-29</td>\n",
       "      <td>6452964</td>\n",
       "      <td>Charlotte</td>\n",
       "      <td>Great location for both airport and city - gre...</td>\n",
       "      <td>Boston</td>\n",
       "    </tr>\n",
       "    <tr>\n",
       "      <th>2</th>\n",
       "      <td>1178162</td>\n",
       "      <td>5003196</td>\n",
       "      <td>2013-06-06</td>\n",
       "      <td>6449554</td>\n",
       "      <td>Sebastian</td>\n",
       "      <td>We really enjoyed our stay at Islams house. Fr...</td>\n",
       "      <td>Boston</td>\n",
       "    </tr>\n",
       "    <tr>\n",
       "      <th>3</th>\n",
       "      <td>1178162</td>\n",
       "      <td>5150351</td>\n",
       "      <td>2013-06-15</td>\n",
       "      <td>2215611</td>\n",
       "      <td>Marine</td>\n",
       "      <td>The room was nice and clean and so were the co...</td>\n",
       "      <td>Boston</td>\n",
       "    </tr>\n",
       "    <tr>\n",
       "      <th>4</th>\n",
       "      <td>1178162</td>\n",
       "      <td>5171140</td>\n",
       "      <td>2013-06-16</td>\n",
       "      <td>6848427</td>\n",
       "      <td>Andrew</td>\n",
       "      <td>Great location. Just 5 mins walk from the Airp...</td>\n",
       "      <td>Boston</td>\n",
       "    </tr>\n",
       "  </tbody>\n",
       "</table>\n",
       "</div>"
      ],
      "text/plain": [
       "  listing_id       id        date reviewer_id reviewer_name  \\\n",
       "0    1178162  4724140  2013-05-21     4298113       Olivier   \n",
       "1    1178162  4869189  2013-05-29     6452964     Charlotte   \n",
       "2    1178162  5003196  2013-06-06     6449554     Sebastian   \n",
       "3    1178162  5150351  2013-06-15     2215611        Marine   \n",
       "4    1178162  5171140  2013-06-16     6848427        Andrew   \n",
       "\n",
       "                                            comments    city  \n",
       "0  My stay at islam's place was really cool! Good...  Boston  \n",
       "1  Great location for both airport and city - gre...  Boston  \n",
       "2  We really enjoyed our stay at Islams house. Fr...  Boston  \n",
       "3  The room was nice and clean and so were the co...  Boston  \n",
       "4  Great location. Just 5 mins walk from the Airp...  Boston  "
      ]
     },
     "execution_count": 28,
     "metadata": {},
     "output_type": "execute_result"
    }
   ],
   "source": [
    "# Look at first rows of reviews\n",
    "df_reviews.head()"
   ]
  },
  {
   "cell_type": "code",
   "execution_count": 29,
   "id": "31950237",
   "metadata": {},
   "outputs": [
    {
     "data": {
      "text/plain": [
       "listing_id            string[pyarrow]\n",
       "id                    string[pyarrow]\n",
       "date             date32[day][pyarrow]\n",
       "reviewer_id           string[pyarrow]\n",
       "reviewer_name         string[pyarrow]\n",
       "comments              string[pyarrow]\n",
       "city                  string[pyarrow]\n",
       "dtype: object"
      ]
     },
     "execution_count": 29,
     "metadata": {},
     "output_type": "execute_result"
    }
   ],
   "source": [
    "# What dtypes?\n",
    "df_reviews.dtypes"
   ]
  },
  {
   "cell_type": "markdown",
   "id": "8f676b5e",
   "metadata": {},
   "source": [
    "### It seems all data types are fine.\n",
    "### For safety we will look at relative amount of missing values and the amount of distinct values for each column."
   ]
  },
  {
   "cell_type": "code",
   "execution_count": 31,
   "id": "0c4c8352",
   "metadata": {},
   "outputs": [
    {
     "data": {
      "text/plain": [
       "comments         0.000464\n",
       "listing_id       0.000000\n",
       "id               0.000000\n",
       "date             0.000000\n",
       "reviewer_id      0.000000\n",
       "reviewer_name    0.000000\n",
       "city             0.000000\n",
       "dtype: float64"
      ]
     },
     "execution_count": 31,
     "metadata": {},
     "output_type": "execute_result"
    }
   ],
   "source": [
    "# Missing values percentage\n",
    "df_reviews.isna().mean().sort_values(ascending = False)"
   ]
  },
  {
   "cell_type": "code",
   "execution_count": 32,
   "id": "1c508b0c",
   "metadata": {},
   "outputs": [
    {
     "data": {
      "text/plain": [
       "city                  2\n",
       "date               2280\n",
       "listing_id         6020\n",
       "reviewer_name     24048\n",
       "reviewer_id      138680\n",
       "comments         151258\n",
       "id               153124\n",
       "dtype: int64"
      ]
     },
     "execution_count": 32,
     "metadata": {},
     "output_type": "execute_result"
    }
   ],
   "source": [
    "# Fields with one distinct value?\n",
    "df_reviews.nunique().sort_values()"
   ]
  },
  {
   "cell_type": "markdown",
   "id": "bc323a31",
   "metadata": {},
   "source": [
    "### Everything looks fine. So we are done cleaning the data."
   ]
  },
  {
   "cell_type": "markdown",
   "id": "e62e37fc",
   "metadata": {},
   "source": [
    "# Analysis"
   ]
  },
  {
   "cell_type": "markdown",
   "id": "0218dc02",
   "metadata": {},
   "source": [
    "## 1. Can you describe the vibe of each neighborhood using listing descriptions?"
   ]
  },
  {
   "cell_type": "markdown",
   "id": "999974b9",
   "metadata": {},
   "source": [
    "### We can see that one third of all 'neighborhood_overviews' is missing. Also some entries for 'neighborhodd' are not filled."
   ]
  },
  {
   "cell_type": "code",
   "execution_count": 33,
   "id": "e5fccb36",
   "metadata": {},
   "outputs": [
    {
     "data": {
      "text/plain": [
       "neighborhood_overview    0.330542\n",
       "dtype: float64"
      ]
     },
     "execution_count": 33,
     "metadata": {},
     "output_type": "execute_result"
    }
   ],
   "source": [
    "# Are there missing neighborhood_overviews?\n",
    "# neighborhood_overview is the host's description of the neighborhood according to airbnb's data dictionary\n",
    "df_listings.loc[:,['neighborhood_overview']].isna().mean()"
   ]
  },
  {
   "cell_type": "code",
   "execution_count": 34,
   "id": "71a34a24",
   "metadata": {},
   "outputs": [
    {
     "data": {
      "text/html": [
       "<div>\n",
       "<style scoped>\n",
       "    .dataframe tbody tr th:only-of-type {\n",
       "        vertical-align: middle;\n",
       "    }\n",
       "\n",
       "    .dataframe tbody tr th {\n",
       "        vertical-align: top;\n",
       "    }\n",
       "\n",
       "    .dataframe thead th {\n",
       "        text-align: right;\n",
       "    }\n",
       "</style>\n",
       "<table border=\"1\" class=\"dataframe\">\n",
       "  <thead>\n",
       "    <tr style=\"text-align: right;\">\n",
       "      <th></th>\n",
       "      <th>neighbourhood</th>\n",
       "      <th>neighborhood_overview</th>\n",
       "    </tr>\n",
       "  </thead>\n",
       "  <tbody>\n",
       "    <tr>\n",
       "      <th>3813</th>\n",
       "      <td>Fremont</td>\n",
       "      <td>We're located near lots of family fun. Woodlan...</td>\n",
       "    </tr>\n",
       "    <tr>\n",
       "      <th>3814</th>\n",
       "      <td>Portage Bay</td>\n",
       "      <td>The neighborhood is a quiet oasis that is clos...</td>\n",
       "    </tr>\n",
       "    <tr>\n",
       "      <th>3815</th>\n",
       "      <td>&lt;NA&gt;</td>\n",
       "      <td>&lt;NA&gt;</td>\n",
       "    </tr>\n",
       "    <tr>\n",
       "      <th>3816</th>\n",
       "      <td>&lt;NA&gt;</td>\n",
       "      <td>Madison Park offers a peaceful slow pace upsca...</td>\n",
       "    </tr>\n",
       "    <tr>\n",
       "      <th>3817</th>\n",
       "      <td>Queen Anne</td>\n",
       "      <td>&lt;NA&gt;</td>\n",
       "    </tr>\n",
       "  </tbody>\n",
       "</table>\n",
       "</div>"
      ],
      "text/plain": [
       "     neighbourhood                              neighborhood_overview\n",
       "3813       Fremont  We're located near lots of family fun. Woodlan...\n",
       "3814   Portage Bay  The neighborhood is a quiet oasis that is clos...\n",
       "3815          <NA>                                               <NA>\n",
       "3816          <NA>  Madison Park offers a peaceful slow pace upsca...\n",
       "3817    Queen Anne                                               <NA>"
      ]
     },
     "execution_count": 34,
     "metadata": {},
     "output_type": "execute_result"
    }
   ],
   "source": [
    "df_listings.loc[:,['neighbourhood','neighborhood_overview']].tail()"
   ]
  },
  {
   "cell_type": "markdown",
   "id": "58506cc2",
   "metadata": {},
   "source": [
    "### The module [spacy](https://spacy.io) provides us with the possibily to extract certain kinds of word from a text. In this case we want to extract all adjectives since they describe the neighborhood. To do this we load a language model from spacy, tell the matcher to look for the pattern of adjectives and write a function we can then apply to the data frame."
   ]
  },
  {
   "cell_type": "code",
   "execution_count": 35,
   "id": "0dfd35d0",
   "metadata": {},
   "outputs": [],
   "source": [
    "# We use spacy to extract every adjective for each neigborhood_overview\n",
    "# Therefore we load a spacy model, define a matcher and write a function that can be applied to \n",
    "# the 'neighborhood_overview' column in the listings data set.\n",
    "\n",
    "nlp = spacy.load(\"en_core_web_lg\")\n",
    "\n",
    "matcher = Matcher(nlp.vocab)\n",
    "\n",
    "patterns = [\n",
    "    [{'POS':'ADJ'}],\n",
    "    ]\n",
    "matcher.add(\"demo\", patterns)\n",
    "\n",
    "def extract_adjectives(text, nlp, matcher):\n",
    "    doc = nlp(text)\n",
    "    matches = matcher(doc)\n",
    "    key_words = []\n",
    "    for match_id, start, end in matches:\n",
    "        string_id = nlp.vocab.strings[match_id]  # Get string representation\n",
    "        span = doc[start:end]  # The matched span\n",
    "        key_words += [span.text]\n",
    "    return key_words"
   ]
  },
  {
   "cell_type": "markdown",
   "id": "b618c05f",
   "metadata": {},
   "source": [
    "### As we noticed previously there were missing entries for 'neighborhood' and 'neighborhood_overview'. They add no information to a summary of a neighborhood's vibe and hence will be dropped."
   ]
  },
  {
   "cell_type": "code",
   "execution_count": 36,
   "id": "77a9bfe1",
   "metadata": {},
   "outputs": [],
   "source": [
    "# Create new data set to keep only information we need\n",
    "# We drop the row if either city, neighborhood or neighborhood_overview is null\n",
    "df_neigborhood = df_listings.loc[:,['city','neighbourhood','neighborhood_overview']].dropna()\n",
    "# Apply function to 'neighborhood_overview' and create the new column 'keywords' containing all adjectives in a list\n",
    "df_neigborhood['keywords'] = df_neigborhood.neighborhood_overview.apply(lambda x: extract_adjectives(x, nlp, matcher))"
   ]
  },
  {
   "cell_type": "markdown",
   "id": "bc46874f",
   "metadata": {},
   "source": [
    "### The result is a new column called 'keywords' containing a list of all adjectives extracted from the text by spacy."
   ]
  },
  {
   "cell_type": "code",
   "execution_count": 37,
   "id": "86dbb55d",
   "metadata": {},
   "outputs": [
    {
     "data": {
      "text/html": [
       "<div>\n",
       "<style scoped>\n",
       "    .dataframe tbody tr th:only-of-type {\n",
       "        vertical-align: middle;\n",
       "    }\n",
       "\n",
       "    .dataframe tbody tr th {\n",
       "        vertical-align: top;\n",
       "    }\n",
       "\n",
       "    .dataframe thead th {\n",
       "        text-align: right;\n",
       "    }\n",
       "</style>\n",
       "<table border=\"1\" class=\"dataframe\">\n",
       "  <thead>\n",
       "    <tr style=\"text-align: right;\">\n",
       "      <th></th>\n",
       "      <th>city</th>\n",
       "      <th>neighbourhood</th>\n",
       "      <th>neighborhood_overview</th>\n",
       "      <th>keywords</th>\n",
       "    </tr>\n",
       "  </thead>\n",
       "  <tbody>\n",
       "    <tr>\n",
       "      <th>0</th>\n",
       "      <td>Boston</td>\n",
       "      <td>Roslindale</td>\n",
       "      <td>Roslindale is quiet, convenient and friendly. ...</td>\n",
       "      <td>[quiet, convenient, friendly, Southern, great,...</td>\n",
       "    </tr>\n",
       "    <tr>\n",
       "      <th>1</th>\n",
       "      <td>Boston</td>\n",
       "      <td>Roslindale</td>\n",
       "      <td>The room is in Roslindale, a diverse and prima...</td>\n",
       "      <td>[diverse, residential, public, other, easy, nice]</td>\n",
       "    </tr>\n",
       "    <tr>\n",
       "      <th>2</th>\n",
       "      <td>Boston</td>\n",
       "      <td>Roslindale</td>\n",
       "      <td>The LOCATION: Roslindale is a safe and diverse...</td>\n",
       "      <td>[safe, diverse, quiet, renowned, easy, free, b...</td>\n",
       "    </tr>\n",
       "    <tr>\n",
       "      <th>4</th>\n",
       "      <td>Boston</td>\n",
       "      <td>Roslindale</td>\n",
       "      <td>I love the proximity to downtown, the neighbor...</td>\n",
       "      <td>[nice, natural, original, vibrant, several, un...</td>\n",
       "    </tr>\n",
       "    <tr>\n",
       "      <th>5</th>\n",
       "      <td>Boston</td>\n",
       "      <td>Roslindale</td>\n",
       "      <td>We love our corner of Roslindale! For quiet wa...</td>\n",
       "      <td>[quiet, amazing, such]</td>\n",
       "    </tr>\n",
       "  </tbody>\n",
       "</table>\n",
       "</div>"
      ],
      "text/plain": [
       "     city neighbourhood                              neighborhood_overview  \\\n",
       "0  Boston    Roslindale  Roslindale is quiet, convenient and friendly. ...   \n",
       "1  Boston    Roslindale  The room is in Roslindale, a diverse and prima...   \n",
       "2  Boston    Roslindale  The LOCATION: Roslindale is a safe and diverse...   \n",
       "4  Boston    Roslindale  I love the proximity to downtown, the neighbor...   \n",
       "5  Boston    Roslindale  We love our corner of Roslindale! For quiet wa...   \n",
       "\n",
       "                                            keywords  \n",
       "0  [quiet, convenient, friendly, Southern, great,...  \n",
       "1  [diverse, residential, public, other, easy, nice]  \n",
       "2  [safe, diverse, quiet, renowned, easy, free, b...  \n",
       "4  [nice, natural, original, vibrant, several, un...  \n",
       "5                             [quiet, amazing, such]  "
      ]
     },
     "execution_count": 37,
     "metadata": {},
     "output_type": "execute_result"
    }
   ],
   "source": [
    "# Look at the result\n",
    "df_neigborhood.head()"
   ]
  },
  {
   "cell_type": "markdown",
   "id": "e9b6b474",
   "metadata": {},
   "source": [
    "### Next we explode the list, so that every adjective has it's own row. Words like 'awesome', 'great' or 'nice' and some other words will be removed. They don't really describe the neighborhood. Also numbers are removed. The result is a data frame with all adjectives for a neigborhood in a column, even if they repeat."
   ]
  },
  {
   "cell_type": "code",
   "execution_count": 106,
   "id": "d1a19921",
   "metadata": {},
   "outputs": [
    {
     "data": {
      "text/html": [
       "<div>\n",
       "<style scoped>\n",
       "    .dataframe tbody tr th:only-of-type {\n",
       "        vertical-align: middle;\n",
       "    }\n",
       "\n",
       "    .dataframe tbody tr th {\n",
       "        vertical-align: top;\n",
       "    }\n",
       "\n",
       "    .dataframe thead th {\n",
       "        text-align: right;\n",
       "    }\n",
       "</style>\n",
       "<table border=\"1\" class=\"dataframe\">\n",
       "  <thead>\n",
       "    <tr style=\"text-align: right;\">\n",
       "      <th></th>\n",
       "      <th>city</th>\n",
       "      <th>neighbourhood</th>\n",
       "      <th>keywords</th>\n",
       "    </tr>\n",
       "  </thead>\n",
       "  <tbody>\n",
       "    <tr>\n",
       "      <th>2491</th>\n",
       "      <td>Boston</td>\n",
       "      <td>Allston-Brighton</td>\n",
       "      <td>accessible</td>\n",
       "    </tr>\n",
       "    <tr>\n",
       "      <th>2593</th>\n",
       "      <td>Boston</td>\n",
       "      <td>Allston-Brighton</td>\n",
       "      <td>accessible</td>\n",
       "    </tr>\n",
       "    <tr>\n",
       "      <th>3351</th>\n",
       "      <td>Boston</td>\n",
       "      <td>Allston-Brighton</td>\n",
       "      <td>accessible</td>\n",
       "    </tr>\n",
       "    <tr>\n",
       "      <th>3448</th>\n",
       "      <td>Boston</td>\n",
       "      <td>Allston-Brighton</td>\n",
       "      <td>accessible</td>\n",
       "    </tr>\n",
       "    <tr>\n",
       "      <th>3476</th>\n",
       "      <td>Boston</td>\n",
       "      <td>Allston-Brighton</td>\n",
       "      <td>accessible</td>\n",
       "    </tr>\n",
       "  </tbody>\n",
       "</table>\n",
       "</div>"
      ],
      "text/plain": [
       "        city     neighbourhood    keywords\n",
       "2491  Boston  Allston-Brighton  accessible\n",
       "2593  Boston  Allston-Brighton  accessible\n",
       "3351  Boston  Allston-Brighton  accessible\n",
       "3448  Boston  Allston-Brighton  accessible\n",
       "3476  Boston  Allston-Brighton  accessible"
      ]
     },
     "execution_count": 106,
     "metadata": {},
     "output_type": "execute_result"
    }
   ],
   "source": [
    "# Now we need to transpose the data frame so that every value in every list has its own row\n",
    "df_explode = df_neigborhood.explode('keywords').drop(columns = ['neighborhood_overview'])\n",
    "# We cast the column keywords to lowercase\n",
    "df_explode['keywords'] = df_explode.keywords.str.lower()\n",
    "# I will remove words like 'great' and 'best' as they don't add useful information\n",
    "df_explode = df_explode.loc[~df_explode.keywords.isin(['great', 'best','amazing','close','many','short','able',\n",
    "                                                      'few','much','major','other','-']),]\n",
    "# We will also drop everything containing a number\n",
    "df_explode = df_explode.loc[~df_explode.keywords.str.contains('[0-9]', na = False),]\n",
    "# Now we create a new data frame containing the counts of each adjective for each city-neighbourhood combination\n",
    "# We sort then by neighbourhood and descending by count of words so that the most frequent words appear on top\n",
    "# for each group\n",
    "df_adjectives = df_explode.groupby(['city','neighbourhood', 'keywords']).value_counts().reset_index().rename(columns = {0:'count'}).sort_values(['neighbourhood', 'count'], ascending = [True, False])\n",
    "df_explode.sort_values(['city', 'neighbourhood', 'keywords']).head()\n"
   ]
  },
  {
   "cell_type": "markdown",
   "id": "6f223501",
   "metadata": {},
   "source": [
    "### Finally we can count every adjective by city and neighborhood. Afterwards we keep the five most frequent words and combine them separated by a comma."
   ]
  },
  {
   "cell_type": "code",
   "execution_count": 107,
   "id": "808f2f0c",
   "metadata": {
    "scrolled": true
   },
   "outputs": [
    {
     "data": {
      "text/html": [
       "<div>\n",
       "<style scoped>\n",
       "    .dataframe tbody tr th:only-of-type {\n",
       "        vertical-align: middle;\n",
       "    }\n",
       "\n",
       "    .dataframe tbody tr th {\n",
       "        vertical-align: top;\n",
       "    }\n",
       "\n",
       "    .dataframe thead th {\n",
       "        text-align: right;\n",
       "    }\n",
       "</style>\n",
       "<table border=\"1\" class=\"dataframe\">\n",
       "  <thead>\n",
       "    <tr style=\"text-align: right;\">\n",
       "      <th></th>\n",
       "      <th>city</th>\n",
       "      <th>neighbourhood</th>\n",
       "      <th>neighborhood_vibe</th>\n",
       "    </tr>\n",
       "  </thead>\n",
       "  <tbody>\n",
       "    <tr>\n",
       "      <th>0</th>\n",
       "      <td>Boston</td>\n",
       "      <td>Allston-Brighton</td>\n",
       "      <td>safe,quiet,young,easy,convenient</td>\n",
       "    </tr>\n",
       "    <tr>\n",
       "      <th>1</th>\n",
       "      <td>Boston</td>\n",
       "      <td>Back Bay</td>\n",
       "      <td>historic,beautiful,public,fashionable,famous</td>\n",
       "    </tr>\n",
       "    <tr>\n",
       "      <th>2</th>\n",
       "      <td>Boston</td>\n",
       "      <td>Beacon Hill</td>\n",
       "      <td>historic,antique,beautiful,desirable,public</td>\n",
       "    </tr>\n",
       "    <tr>\n",
       "      <th>3</th>\n",
       "      <td>Boston</td>\n",
       "      <td>Brookline</td>\n",
       "      <td>upscale,beautiful,chic,commercial,convenient</td>\n",
       "    </tr>\n",
       "    <tr>\n",
       "      <th>4</th>\n",
       "      <td>Boston</td>\n",
       "      <td>Cambridge</td>\n",
       "      <td>convenient,safe,beautiful,diverse,easy</td>\n",
       "    </tr>\n",
       "    <tr>\n",
       "      <th>5</th>\n",
       "      <td>Boston</td>\n",
       "      <td>Charlestown</td>\n",
       "      <td>historic,oldest,quiet,easy,friendly</td>\n",
       "    </tr>\n",
       "    <tr>\n",
       "      <th>6</th>\n",
       "      <td>Boston</td>\n",
       "      <td>Chestnut Hill</td>\n",
       "      <td>aware,desirable,important,interesting,public</td>\n",
       "    </tr>\n",
       "    <tr>\n",
       "      <th>7</th>\n",
       "      <td>Boston</td>\n",
       "      <td>Chinatown</td>\n",
       "      <td>local,eclectic,several,public,highest</td>\n",
       "    </tr>\n",
       "    <tr>\n",
       "      <th>8</th>\n",
       "      <td>Boston</td>\n",
       "      <td>Dorchester</td>\n",
       "      <td>victorian,beautiful,residential,safe,quiet</td>\n",
       "    </tr>\n",
       "    <tr>\n",
       "      <th>9</th>\n",
       "      <td>Boston</td>\n",
       "      <td>Downtown</td>\n",
       "      <td>historical,beautiful,casual,central,easy</td>\n",
       "    </tr>\n",
       "    <tr>\n",
       "      <th>30</th>\n",
       "      <td>Seattle</td>\n",
       "      <td>Alki</td>\n",
       "      <td>quiet,beautiful,old,open,urban</td>\n",
       "    </tr>\n",
       "    <tr>\n",
       "      <th>31</th>\n",
       "      <td>Seattle</td>\n",
       "      <td>Arbor Heights</td>\n",
       "      <td>quick,awesome,beautiful,convenient,free</td>\n",
       "    </tr>\n",
       "    <tr>\n",
       "      <th>32</th>\n",
       "      <td>Seattle</td>\n",
       "      <td>Atlantic</td>\n",
       "      <td>quiet,easy,good,urban,asian</td>\n",
       "    </tr>\n",
       "    <tr>\n",
       "      <th>33</th>\n",
       "      <td>Seattle</td>\n",
       "      <td>Ballard</td>\n",
       "      <td>quiet,easy,friendly,more,new</td>\n",
       "    </tr>\n",
       "    <tr>\n",
       "      <th>34</th>\n",
       "      <td>Seattle</td>\n",
       "      <td>Belltown</td>\n",
       "      <td>local,nearby,eclectic,vibrant,residential</td>\n",
       "    </tr>\n",
       "    <tr>\n",
       "      <th>35</th>\n",
       "      <td>Seattle</td>\n",
       "      <td>Bitter Lake</td>\n",
       "      <td>fun,public,various,easy,residential</td>\n",
       "    </tr>\n",
       "    <tr>\n",
       "      <th>36</th>\n",
       "      <td>Seattle</td>\n",
       "      <td>Brighton</td>\n",
       "      <td>diverse,brew,different,excellent,italian</td>\n",
       "    </tr>\n",
       "    <tr>\n",
       "      <th>37</th>\n",
       "      <td>Seattle</td>\n",
       "      <td>Broadview</td>\n",
       "      <td>quiet,easy,residential,beautiful,friendly</td>\n",
       "    </tr>\n",
       "    <tr>\n",
       "      <th>38</th>\n",
       "      <td>Seattle</td>\n",
       "      <td>Broadway</td>\n",
       "      <td>fantastic,quiet,accessible,difficult,eclectic</td>\n",
       "    </tr>\n",
       "    <tr>\n",
       "      <th>39</th>\n",
       "      <td>Seattle</td>\n",
       "      <td>Bryant</td>\n",
       "      <td>quiet,safe,residential,easy,convenient</td>\n",
       "    </tr>\n",
       "  </tbody>\n",
       "</table>\n",
       "</div>"
      ],
      "text/plain": [
       "       city     neighbourhood                              neighborhood_vibe\n",
       "0    Boston  Allston-Brighton               safe,quiet,young,easy,convenient\n",
       "1    Boston          Back Bay   historic,beautiful,public,fashionable,famous\n",
       "2    Boston       Beacon Hill    historic,antique,beautiful,desirable,public\n",
       "3    Boston         Brookline   upscale,beautiful,chic,commercial,convenient\n",
       "4    Boston         Cambridge         convenient,safe,beautiful,diverse,easy\n",
       "5    Boston       Charlestown            historic,oldest,quiet,easy,friendly\n",
       "6    Boston     Chestnut Hill   aware,desirable,important,interesting,public\n",
       "7    Boston         Chinatown          local,eclectic,several,public,highest\n",
       "8    Boston        Dorchester     victorian,beautiful,residential,safe,quiet\n",
       "9    Boston          Downtown       historical,beautiful,casual,central,easy\n",
       "30  Seattle              Alki                 quiet,beautiful,old,open,urban\n",
       "31  Seattle     Arbor Heights        quick,awesome,beautiful,convenient,free\n",
       "32  Seattle          Atlantic                    quiet,easy,good,urban,asian\n",
       "33  Seattle           Ballard                   quiet,easy,friendly,more,new\n",
       "34  Seattle          Belltown      local,nearby,eclectic,vibrant,residential\n",
       "35  Seattle       Bitter Lake            fun,public,various,easy,residential\n",
       "36  Seattle          Brighton       diverse,brew,different,excellent,italian\n",
       "37  Seattle         Broadview      quiet,easy,residential,beautiful,friendly\n",
       "38  Seattle          Broadway  fantastic,quiet,accessible,difficult,eclectic\n",
       "39  Seattle            Bryant         quiet,safe,residential,easy,convenient"
      ]
     },
     "execution_count": 107,
     "metadata": {},
     "output_type": "execute_result"
    }
   ],
   "source": [
    "# We keep only the first 5 entris for every city-neighbourhood combination, that means the 5 most frequent ones\n",
    "# we drop column 'count' because we don't need it anymore\n",
    "df_vibe = df_adjectives.groupby(['city','neighbourhood']).head(5).drop(columns = ['count'])\n",
    "# We combine the most frequent words into a string and rename the column to 'neighborhood_vibe'\n",
    "df_vibe = df_vibe.groupby(['city','neighbourhood'])['keywords'].apply(\",\".join).reset_index().rename(columns = {'keywords': 'neighborhood_vibe'})\n",
    "# Show first 10 rows for each city\n",
    "df_vibe.groupby('city').head(10)"
   ]
  },
  {
   "cell_type": "markdown",
   "id": "a6fcfe66",
   "metadata": {},
   "source": [
    "### We found an easy way to summarize all descriptions of neighbourhoods into five quite informative words."
   ]
  },
  {
   "cell_type": "markdown",
   "id": "f14f7e35",
   "metadata": {},
   "source": [
    "## 2. Is there a significant difference between ratings in Seattle and Boston?"
   ]
  },
  {
   "cell_type": "markdown",
   "id": "c1ba8a14",
   "metadata": {},
   "source": [
    "### First we take a look at the average review scores of Boston and Seattle. Ratings in Seattle are slightly higher in average. But is it statistically significantly better?"
   ]
  },
  {
   "cell_type": "code",
   "execution_count": 40,
   "id": "b2a178fb",
   "metadata": {},
   "outputs": [
    {
     "data": {
      "text/plain": [
       "city\n",
       "Boston     9.168235\n",
       "Seattle    9.452246\n",
       "Name: review_scores_value, dtype: float[pyarrow]"
      ]
     },
     "execution_count": 40,
     "metadata": {},
     "output_type": "execute_result"
    }
   ],
   "source": [
    "# Listings in Seattle are in average slighty better rated than in Boston.\n",
    "# But is the difference statistically significant?\n",
    "df_listings['review_scores_value'] = df_listings.review_scores_value.astype('float32[pyarrow]')\n",
    "df_listings.groupby('city').review_scores_value.mean()"
   ]
  },
  {
   "cell_type": "markdown",
   "id": "8217a1cd",
   "metadata": {},
   "source": [
    "### Let's also have a look at the histograms for both cities. Also here we can see that the ratings for Seattle are slighly higher since the histogram for Boston is heavier on the left side."
   ]
  },
  {
   "cell_type": "code",
   "execution_count": 41,
   "id": "2914442e",
   "metadata": {},
   "outputs": [
    {
     "data": {
      "image/png": "[encoded data removed]",
      "text/plain": [
       "<Figure size 1400x700 with 2 Axes>"
      ]
     },
     "metadata": {},
     "output_type": "display_data"
    }
   ],
   "source": [
    "# Check if ratings could follow a normal distribution\n",
    "df_listings.plot.hist(column = 'review_scores_value', by = 'city', figsize = (14, 7), sharex = True);"
   ]
  },
  {
   "cell_type": "markdown",
   "id": "b1e80dc1",
   "metadata": {},
   "source": [
    "### The histograms don't indicate that the ratings are normally distributed. Thus we can not perform a t-test because one of the prerequisites is normal distribution. We have to use a Wilcoxon rank sum test instead with the hypotheses\n"
   ]
  },
  {
   "cell_type": "markdown",
   "id": "155ab243",
   "metadata": {},
   "source": [
    "\\begin{align}\n",
    "H_{0}: \\mu_{0}\\geq\\mu_{1} \\qquad vs. \\qquad H_{1}: \\mu_{0} < \\mu_{1}\n",
    "\\end{align}"
   ]
  },
  {
   "cell_type": "code",
   "execution_count": 42,
   "id": "3acdd5ef",
   "metadata": {},
   "outputs": [
    {
     "name": "stdout",
     "output_type": "stream",
     "text": [
      "p-value: 9.283213459080685e-28\n"
     ]
    }
   ],
   "source": [
    "# We extract two series out of df_listings containing the review score values for Boston and Seattle respectively.\n",
    "# We drop missing values\n",
    "ratings_boston = df_listings.loc[df_listings.city == 'Boston' ,'review_scores_value'].dropna()\n",
    "ratings_seattle = df_listings.loc[df_listings.city == 'Seattle' ,'review_scores_value'].dropna()\n",
    "\n",
    "# We perform the Wilcoxon rank sum test and safe the value for the test statsitc and the p value\n",
    "Stat, pvalue = ranksums(ratings_boston, ratings_seattle, alternative = 'less')\n",
    "print(\"p-value:\", pvalue)"
   ]
  },
  {
   "cell_type": "markdown",
   "id": "6b3575ea",
   "metadata": {},
   "source": [
    "### The p value is almost zero. That means we can reject the null hypothesis by significance level 5%. So the ratings of listings in Boston are significally lower than the ratings in Seattle. Or in other words: people in Seattle slightly rate listings better than people in Boston."
   ]
  },
  {
   "cell_type": "markdown",
   "id": "2345527f",
   "metadata": {},
   "source": [
    "## What are the busiest times of the year to visit Boston and Seattle? By how much do prices spike?"
   ]
  },
  {
   "cell_type": "markdown",
   "id": "9fd4723e",
   "metadata": {},
   "source": [
    "### We know which location was available on which day. We use this information to compute a percentage of unavailability for each day in both cities. That helps us to make a statement about the busiest times of the year."
   ]
  },
  {
   "cell_type": "code",
   "execution_count": 43,
   "id": "2fed41b3",
   "metadata": {},
   "outputs": [
    {
     "data": {
      "text/html": [
       "<div>\n",
       "<style scoped>\n",
       "    .dataframe tbody tr th:only-of-type {\n",
       "        vertical-align: middle;\n",
       "    }\n",
       "\n",
       "    .dataframe tbody tr th {\n",
       "        vertical-align: top;\n",
       "    }\n",
       "\n",
       "    .dataframe thead th {\n",
       "        text-align: right;\n",
       "    }\n",
       "</style>\n",
       "<table border=\"1\" class=\"dataframe\">\n",
       "  <thead>\n",
       "    <tr style=\"text-align: right;\">\n",
       "      <th></th>\n",
       "      <th>city</th>\n",
       "      <th>date</th>\n",
       "      <th>listings_cnt</th>\n",
       "      <th>listings_available</th>\n",
       "      <th>listings_not_available</th>\n",
       "      <th>percentage_not_available</th>\n",
       "    </tr>\n",
       "  </thead>\n",
       "  <tbody>\n",
       "    <tr>\n",
       "      <th>0</th>\n",
       "      <td>Boston</td>\n",
       "      <td>2016-09-06</td>\n",
       "      <td>3586</td>\n",
       "      <td>570</td>\n",
       "      <td>3016</td>\n",
       "      <td>0.841049</td>\n",
       "    </tr>\n",
       "    <tr>\n",
       "      <th>1</th>\n",
       "      <td>Boston</td>\n",
       "      <td>2016-09-07</td>\n",
       "      <td>3586</td>\n",
       "      <td>932</td>\n",
       "      <td>2654</td>\n",
       "      <td>0.740100</td>\n",
       "    </tr>\n",
       "    <tr>\n",
       "      <th>2</th>\n",
       "      <td>Boston</td>\n",
       "      <td>2016-09-08</td>\n",
       "      <td>3586</td>\n",
       "      <td>999</td>\n",
       "      <td>2587</td>\n",
       "      <td>0.721417</td>\n",
       "    </tr>\n",
       "    <tr>\n",
       "      <th>3</th>\n",
       "      <td>Boston</td>\n",
       "      <td>2016-09-09</td>\n",
       "      <td>3586</td>\n",
       "      <td>981</td>\n",
       "      <td>2605</td>\n",
       "      <td>0.726436</td>\n",
       "    </tr>\n",
       "    <tr>\n",
       "      <th>4</th>\n",
       "      <td>Boston</td>\n",
       "      <td>2016-09-10</td>\n",
       "      <td>3586</td>\n",
       "      <td>956</td>\n",
       "      <td>2630</td>\n",
       "      <td>0.733408</td>\n",
       "    </tr>\n",
       "  </tbody>\n",
       "</table>\n",
       "</div>"
      ],
      "text/plain": [
       "     city        date  listings_cnt  listings_available  \\\n",
       "0  Boston  2016-09-06          3586                 570   \n",
       "1  Boston  2016-09-07          3586                 932   \n",
       "2  Boston  2016-09-08          3586                 999   \n",
       "3  Boston  2016-09-09          3586                 981   \n",
       "4  Boston  2016-09-10          3586                 956   \n",
       "\n",
       "   listings_not_available  percentage_not_available  \n",
       "0                    3016                  0.841049  \n",
       "1                    2654                  0.740100  \n",
       "2                    2587                  0.721417  \n",
       "3                    2605                  0.726436  \n",
       "4                    2630                  0.733408  "
      ]
     },
     "execution_count": 43,
     "metadata": {},
     "output_type": "execute_result"
    }
   ],
   "source": [
    "# Count available listings in Seattle per day\n",
    "nonavailability = df_calendar.groupby(['city', 'date']).agg({'available': ['count', 'sum']})\n",
    "nonavailability.columns = ['_'.join(col) for col in nonavailability.columns.values]\n",
    "nonavailability = nonavailability.rename(columns = {'available_count': 'listings_cnt', 'available_sum': 'listings_available'})\n",
    "nonavailability.loc[:, 'listings_not_available'] = nonavailability.listings_cnt - nonavailability.listings_available\n",
    "nonavailability.loc[:, 'percentage_not_available'] = nonavailability.listings_not_available/nonavailability.listings_cnt\n",
    "nonavailability = nonavailability.reset_index()\n",
    "nonavailability.head()"
   ]
  },
  {
   "cell_type": "markdown",
   "id": "396552d0",
   "metadata": {},
   "source": [
    "### To get a better overview about the unavailability we plot the dates versus the unavailability rates."
   ]
  },
  {
   "cell_type": "code",
   "execution_count": 109,
   "id": "dc730f94",
   "metadata": {},
   "outputs": [
    {
     "data": {
      "image/png": "[encoded data removed]",
      "text/plain": [
       "<Figure size 1400x700 with 1 Axes>"
      ]
     },
     "metadata": {},
     "output_type": "display_data"
    }
   ],
   "source": [
    "# plot of percentage of unavailability in Boston and Seattle\n",
    "nonavailability.loc[nonavailability.city == 'Boston', 'color'] = 'Boston'\n",
    "nonavailability.loc[nonavailability.city == 'Seattle', 'color'] = 'Seattle'\n",
    "colors = {'Boston':'cornflowerblue', 'Seattle':'darkorange'}\n",
    "fig, ax = plt.subplots(figsize=(14, 7))\n",
    "grouped = nonavailability.groupby('color')\n",
    "for key, group in grouped:\n",
    "    group.plot(ax=ax, kind='line', x='date', y='percentage_not_available', label=key, color=colors[key], lw = 3, title = \"Avg. Airbnb Unavailability in Boston and Seattle\", xlabel = \"Date\", ylabel = \"Avg. Percentage of non-availability\")"
   ]
  },
  {
   "cell_type": "markdown",
   "id": "316209e6",
   "metadata": {},
   "source": [
    "### We can see that for both cities there is a radical decrease of unavailablility at the beginning. Even after some research I couln'd really find the reason. Probably it was a change in law in the states of Massachusetts and Washington but not at the same time."
   ]
  },
  {
   "cell_type": "code",
   "execution_count": 110,
   "id": "508be581",
   "metadata": {},
   "outputs": [
    {
     "data": {
      "image/png": "[encoded data removed]",
      "text/plain": [
       "<Figure size 1400x700 with 1 Axes>"
      ]
     },
     "metadata": {},
     "output_type": "display_data"
    }
   ],
   "source": [
    "# What is the average price per day in Boston and Seattle?\n",
    "avg_price = df_calendar.groupby(['city', 'date'])['price'].agg('mean')\n",
    "avg_price = avg_price.reset_index()\n",
    "avg_price.loc[avg_price.city == 'Boston', 'color'] = 'Boston'\n",
    "avg_price.loc[avg_price.city == 'Seattle', 'color'] = 'Seattle'\n",
    "colors = {'Boston':'cornflowerblue', 'Seattle':'darkorange'}\n",
    "fig, ax = plt.subplots(figsize=(14, 7))\n",
    "grouped = avg_price.groupby('color')\n",
    "for key, group in grouped:\n",
    "    group.plot(ax=ax, kind='line', x='date', y='price', label=key, color=colors[key], lw = 3, title = \"Price Developement in Boston and Seattle\", xlabel = \"Date\", ylabel = \"Avg. Price in Dollar per Day\")"
   ]
  },
  {
   "cell_type": "markdown",
   "id": "91fb1376",
   "metadata": {},
   "source": [
    "### The Peak in April 2017 in the Boston price is interesting. "
   ]
  },
  {
   "cell_type": "code",
   "execution_count": 74,
   "id": "1ceebec4",
   "metadata": {},
   "outputs": [
    {
     "data": {
      "text/html": [
       "<div>\n",
       "<style scoped>\n",
       "    .dataframe tbody tr th:only-of-type {\n",
       "        vertical-align: middle;\n",
       "    }\n",
       "\n",
       "    .dataframe tbody tr th {\n",
       "        vertical-align: top;\n",
       "    }\n",
       "\n",
       "    .dataframe thead th {\n",
       "        text-align: right;\n",
       "    }\n",
       "</style>\n",
       "<table border=\"1\" class=\"dataframe\">\n",
       "  <thead>\n",
       "    <tr style=\"text-align: right;\">\n",
       "      <th></th>\n",
       "      <th>date</th>\n",
       "      <th>price</th>\n",
       "    </tr>\n",
       "  </thead>\n",
       "  <tbody>\n",
       "    <tr>\n",
       "      <th>221</th>\n",
       "      <td>2017-04-15</td>\n",
       "      <td>235.501617</td>\n",
       "    </tr>\n",
       "  </tbody>\n",
       "</table>\n",
       "</div>"
      ],
      "text/plain": [
       "           date       price\n",
       "221  2017-04-15  235.501617"
      ]
     },
     "execution_count": 74,
     "metadata": {},
     "output_type": "execute_result"
    }
   ],
   "source": [
    "# Find max price around April 2017 in Boston\n",
    "test = avg_price.dropna().loc[(avg_price.city == 'Boston') & (avg_price.date.dt.month.isin([3,4,5])), [\"date\", \"price\"]]\n",
    "test.loc[test.price == test.price.max(),]"
   ]
  },
  {
   "cell_type": "markdown",
   "id": "b7ae7a5e",
   "metadata": {},
   "source": [
    "### The interesting peak is on April 15th. Looking that date up leads to the suggestion that it is about Boston Marathon, which always takes place at that time.\n",
    "### Additionally prices seem to be generally higher during summer time. Also we can see that Boston has a higher price level than Seattle and also a bigger variance over the year."
   ]
  },
  {
   "cell_type": "code",
   "execution_count": 57,
   "id": "047bbceb",
   "metadata": {},
   "outputs": [
    {
     "data": {
      "image/png": "[encoded data removed]",
      "text/plain": [
       "<Figure size 1400x700 with 1 Axes>"
      ]
     },
     "metadata": {},
     "output_type": "display_data"
    }
   ],
   "source": [
    "df_calendar.loc[df_calendar.city == 'Boston', 'color'] = 'Boston'\n",
    "df_calendar.loc[df_calendar.city == 'Seattle', 'color'] = 'Seattle'\n",
    "df_calendar_notnull = df_calendar.dropna()\n",
    "colors = {'Boston':'firebrick', 'Seattle':'limegreen'}\n",
    "fig, ax = plt.subplots(figsize=(14, 7))\n",
    "grouped = df_calendar_notnull.groupby('color')\n",
    "for key, group in grouped:\n",
    "    group.plot(ax=ax, kind='scatter', x='date', y='price', label=key, color=colors[key], alpha = 0.3)\n",
    "plt.show()"
   ]
  }
 ],
 "metadata": {
  "kernelspec": {
   "display_name": "Python 3 (ipykernel)",
   "language": "python",
   "name": "python3"
  },
  "language_info": {
   "codemirror_mode": {
    "name": "ipython",
    "version": 3
   },
   "file_extension": ".py",
   "mimetype": "text/x-python",
   "name": "python",
   "nbconvert_exporter": "python",
   "pygments_lexer": "ipython3",
   "version": "3.11.3"
  }
 },
 "nbformat": 4,
 "nbformat_minor": 5
}
